{
 "cells": [
  {
   "cell_type": "code",
   "execution_count": 224,
   "metadata": {},
   "outputs": [
    {
     "name": "stdout",
     "output_type": "stream",
     "text": [
      "The autoreload extension is already loaded. To reload it, use:\n",
      "  %reload_ext autoreload\n"
     ]
    },
    {
     "data": {
      "text/plain": [
       "True"
      ]
     },
     "execution_count": 224,
     "metadata": {},
     "output_type": "execute_result"
    }
   ],
   "source": [
    "# %matplotlib nbagg\n",
    "# %matplotlib inline\n",
    "%load_ext autoreload\n",
    "%autoreload 2\n",
    "\n",
    "import sys\n",
    "import os\n",
    "import time\n",
    "import pickle\n",
    "from datetime import datetime\n",
    "\n",
    "sys.path.append(\"..\")\n",
    "# 自分のpath\n",
    "os.chdir(\"/home/nakamura/HAI/main_server/hai\")\n",
    "\n",
    "import coloredlogs, logging\n",
    "logger = logging.getLogger(__name__)\n",
    "coloredlogs.install(level='CRITICAL', logger=logger)\n",
    "\n",
    "import pymongo\n",
    "from pymongo import MongoClient\n",
    "from PIL import Image\n",
    "from matplotlib import pylab as plt\n",
    "from matplotlib.animation import ArtistAnimation\n",
    "import matplotlib.animation as animation\n",
    "import numpy as np\n",
    "import scipy\n",
    "from bson.objectid import ObjectId\n",
    "from sklearn.decomposition import PCA\n",
    "from sklearn.manifold import TSNE\n",
    "from sklearn import linear_model\n",
    "from sklearn.pipeline import Pipeline\n",
    "from sklearn.preprocessing import StandardScaler\n",
    "from sklearn import cross_validation\n",
    "from sklearn.ensemble import RandomForestClassifier\n",
    "from sklearn.model_selection import train_test_split\n",
    "\n",
    "from notebooks.utils.utils import visualize, display_latest_image, display_image, print_time, strtime_to_epoch, epoch_to_strtime, UpdateDist, display_two_images\n",
    "from controllers.learner.img2vec import NNFeatures\n",
    "from controllers.vectorizer.person2vec import Person2Vec\n",
    "import controllers.learner.datasets as ds\n",
    "from controllers.dbreader.hue_koki_dbreader import HueDBReader, pair_images, extract_color, ExprHueDBReader\n",
    "from controllers.tests.test0106 import Test0106, get_hue_label\n",
    "from controllers.youtubeplayer import get_youtube_label\n",
    "from controllers.irkit import get_tv_label\n",
    "\n",
    "mongo = MongoClient('localhost', 20202).hai\n",
    "from flask import Flask\n",
    "app = Flask(__name__)\n",
    "app.config.from_pyfile(filename=\"application.cfg\")"
   ]
  },
  {
   "cell_type": "code",
   "execution_count": 215,
   "metadata": {
    "collapsed": true
   },
   "outputs": [],
   "source": [
    "start = strtime_to_epoch(\"2018-01-06 18:05:00\")\n",
    "# end = strtime_to_epoch(\"2018-12-17 15:05:00\")\n",
    "end = 10e10"
   ]
  },
  {
   "cell_type": "code",
   "execution_count": 217,
   "metadata": {},
   "outputs": [
    {
     "data": {
      "text/plain": [
       "({'hue': [[1515229897.2163348, 0],\n",
       "   [1515229949.3192773, 2],\n",
       "   [1515230141.180791, 2],\n",
       "   [1515230166.805435, 1],\n",
       "   [1515230256.7558606, 2],\n",
       "   [1515230283.6463628, 0],\n",
       "   [1515232918.9161975, 2],\n",
       "   [1515232932.3959007, 1],\n",
       "   [1515233001.390852, 0],\n",
       "   [1515233022.250762, 2],\n",
       "   [1515237964.844595, 2]]},\n",
       " ['電球色', 'オフ', '白色'])"
      ]
     },
     "execution_count": 217,
     "metadata": {},
     "output_type": "execute_result"
    }
   ],
   "source": [
    "get_hue_label(start, end)"
   ]
  },
  {
   "cell_type": "code",
   "execution_count": 221,
   "metadata": {},
   "outputs": [
    {
     "data": {
      "text/plain": [
       "({'youtube': [[1515236593.1309254, 0],\n",
       "   [1515236727.6453192, 0],\n",
       "   [1515238016.384955, 0],\n",
       "   [1515238054.7300446, 1],\n",
       "   [1515236206.2311873, 0],\n",
       "   [1515237131.7843866, 0],\n",
       "   [1515237501.19113, 0],\n",
       "   [1515236276.4366357, 1]]},\n",
       " ['ホワイトノイズ', 'stop'])"
      ]
     },
     "execution_count": 221,
     "metadata": {},
     "output_type": "execute_result"
    }
   ],
   "source": [
    "get_youtube_label(start, end)"
   ]
  },
  {
   "cell_type": "code",
   "execution_count": 225,
   "metadata": {},
   "outputs": [
    {
     "data": {
      "text/plain": [
       "({'TV': [[1515233972.3709023, 0],\n",
       "   [1515238054.731465, 1],\n",
       "   [1515233887.0158968, 0],\n",
       "   [1515233944.8362386, 1],\n",
       "   [1515233980.1109874, 1],\n",
       "   [1515237749.7918558, 0],\n",
       "   [1515237913.3010225, 0]]},\n",
       " ['on', 'off'])"
      ]
     },
     "execution_count": 225,
     "metadata": {},
     "output_type": "execute_result"
    }
   ],
   "source": [
    "get_tv_label(start, end)"
   ]
  },
  {
   "cell_type": "code",
   "execution_count": 5,
   "metadata": {
    "collapsed": true
   },
   "outputs": [],
   "source": [
    "hue = Test0106('koki')"
   ]
  },
  {
   "cell_type": "code",
   "execution_count": 6,
   "metadata": {},
   "outputs": [
    {
     "data": {
      "text/plain": [
       "'2018-01-06 17:36:23'"
      ]
     },
     "execution_count": 6,
     "metadata": {},
     "output_type": "execute_result"
    }
   ],
   "source": [
    "epoch_to_strtime(1515227783.59965)"
   ]
  },
  {
   "cell_type": "code",
   "execution_count": 4,
   "metadata": {
    "collapsed": true
   },
   "outputs": [],
   "source": [
    "img0_cols = mongo.images.find({'cam_id': 'webcam0', 'time': {'$gt': start, '$lt': end}})\n",
    "img1_cols = mongo.images.find({'cam_id': 'webcam1', 'time': {'$gt': start, '$lt': end}})\n",
    "imgs_cols = np.array(pair_images(img0_cols, img1_cols))"
   ]
  },
  {
   "cell_type": "code",
   "execution_count": 10,
   "metadata": {
    "collapsed": true
   },
   "outputs": [],
   "source": [
    "prints = mongo.print.find({'time': {'$gt': start, '$lt': end}})"
   ]
  },
  {
   "cell_type": "code",
   "execution_count": 11,
   "metadata": {},
   "outputs": [
    {
     "name": "stdout",
     "output_type": "stream",
     "text": [
      "{'text': 'wow', '_id': ObjectId('5a4fccfa1d41c879d8e1e504'), 'time': 1515179258.990909, 'user_name': 'koki'}\n",
      "{'text': 'スタート', '_id': ObjectId('5a4fce051d41c879d8e1e581'), 'time': 1515179525.060217, 'user_name': 'koki'}\n",
      "{'text': 'TV', '_id': ObjectId('5a4fce131d41c879d8e1e58c'), 'time': 1515179539.906976, 'user_name': 'koki'}\n",
      "{'text': 'ソファで寝る', '_id': ObjectId('5a4fce371d41c879d8e1e59f'), 'time': 1515179575.8342004, 'user_name': 'koki'}\n",
      "{'text': '外出', '_id': ObjectId('5a4fceae1d41c879d8e1e5eb'), 'time': 1515179694.9625509, 'user_name': 'koki'}\n",
      "{'text': 'アイスを食べる', '_id': ObjectId('5a4fcf041d41c879d8e1e61f'), 'time': 1515179780.8865013, 'user_name': 'koki'}\n",
      "{'text': 'スマホ', '_id': ObjectId('5a4fcfa01d41c879d8e1e678'), 'time': 1515179936.7902431, 'user_name': 'koki'}\n",
      "{'text': 'pc', '_id': ObjectId('5a4fd0d81d41c879d8e1e729'), 'time': 1515180248.8999238, 'user_name': 'koki'}\n",
      "{'text': 'アイス（机で）', '_id': ObjectId('5a4fd15b1d41c879d8e1e770'), 'time': 1515180379.7111242, 'user_name': 'koki'}\n",
      "{'text': 'うろうろ', '_id': ObjectId('5a4fd1af1d41c879d8e1e7a1'), 'time': 1515180463.2217932, 'user_name': 'koki'}\n",
      "{'text': 'ベットでスマホ', '_id': ObjectId('5a4fd1dd1d41c879d8e1e7bc'), 'time': 1515180509.8931353, 'user_name': 'koki'}\n",
      "{'text': '睡眠', '_id': ObjectId('5a4fd2601d41c879d8e1e80e'), 'time': 1515180640.6341434, 'user_name': 'koki'}\n",
      "{'text': '布団の上で寝る', '_id': ObjectId('5a4fd2e81d41c879d8e1e85e'), 'time': 1515180776.0819664, 'user_name': 'koki'}\n",
      "{'text': '終了', '_id': ObjectId('5a4fd32e1d41c879d8e1e887'), 'time': 1515180846.2009082, 'user_name': 'koki'}\n"
     ]
    }
   ],
   "source": [
    "for p in prints:\n",
    "    print(p)"
   ]
  },
  {
   "cell_type": "code",
   "execution_count": 12,
   "metadata": {
    "collapsed": true
   },
   "outputs": [],
   "source": [
    "def get_data():\n",
    "    X = []\n",
    "    y = []\n",
    "    for al in activity_log:\n",
    "        start = strtime_to_epoch(al['start'])\n",
    "        end = strtime_to_epoch(al['end'])\n",
    "        img0_cols = mongo.images.find({'cam_id': 'webcam0', 'time': {'$gt': start, '$lt': end}})\n",
    "        img1_cols = mongo.images.find({'cam_id': 'webcam1', 'time': {'$gt': start, '$lt': end}})\n",
    "        imgs_cols = pair_images(img0_cols, img1_cols)\n",
    "        y.extend([al['activity']] * len(imgs_cols))\n",
    "        X.extend(imgs_cols)\n",
    "\n",
    "    return X, y"
   ]
  },
  {
   "cell_type": "code",
   "execution_count": 13,
   "metadata": {
    "collapsed": true
   },
   "outputs": [],
   "source": [
    "activity_log = [\n",
    "    {'activity': 'sleep', 'start': '2018-01-06 04:13:04', 'end': '2018-01-06 04:14:52'},\n",
    "    {'activity': 'absence', 'start': '2018-01-06 04:15:01', 'end': '2018-01-06 04:16:22'},\n",
    "    {'activity': 'enjoy', 'start': '2018-01-06 04:16:26', 'end': '2018-01-06 04:23:57'},\n",
    "    {'activity': 'work', 'start': '2018-01-06 04:24:11', 'end': '2018-01-06 04:25:58'},\n",
    "    # {'activity': 'enjoy', 'start': '2018-01-06 04:24:11', 'end': '2018-01-06 04:25:58'},\n",
    "    {'activity': 'sleep', 'start': '2018-01-06 04:28:34', 'end': '2018-01-06 04:33:53'},\n",
    "]"
   ]
  },
  {
   "cell_type": "code",
   "execution_count": 15,
   "metadata": {
    "collapsed": true
   },
   "outputs": [],
   "source": [
    "X, y = get_data()"
   ]
  },
  {
   "cell_type": "code",
   "execution_count": 29,
   "metadata": {},
   "outputs": [
    {
     "data": {
      "text/plain": [
       "{'body': [], 'face': [], 'hand': []}"
      ]
     },
     "execution_count": 29,
     "metadata": {},
     "output_type": "execute_result"
    }
   ],
   "source": [
    "X[0][0]['pose']"
   ]
  },
  {
   "cell_type": "code",
   "execution_count": 32,
   "metadata": {
    "collapsed": true
   },
   "outputs": [],
   "source": [
    "vectorizer = Person2Vec()"
   ]
  },
  {
   "cell_type": "code",
   "execution_count": 34,
   "metadata": {
    "collapsed": true
   },
   "outputs": [],
   "source": [
    "a, b = vectorizer.vectorize(X)"
   ]
  },
  {
   "cell_type": "code",
   "execution_count": 36,
   "metadata": {},
   "outputs": [
    {
     "data": {
      "text/plain": [
       "(232, 108)"
      ]
     },
     "execution_count": 36,
     "metadata": {},
     "output_type": "execute_result"
    }
   ],
   "source": [
    "a.shape"
   ]
  },
  {
   "cell_type": "code",
   "execution_count": 69,
   "metadata": {
    "collapsed": true
   },
   "outputs": [],
   "source": [
    "start = strtime_to_epoch(\"2018-01-06 04:05:00\")\n",
    "# end = strtime_to_epoch(\"2018-12-17 15:05:00\")\n",
    "end = 10e10"
   ]
  },
  {
   "cell_type": "code",
   "execution_count": 78,
   "metadata": {},
   "outputs": [],
   "source": [
    "labels = []\n",
    "classes = ['on', 'off']\n",
    "irkit_operations =  mongo.operation.find({'controller': 'IRKit', 'time': {'$gt': start, '$lt': end}})\n",
    "for irkit_operation in irkit_operations:\n",
    "    for op in irkit_operation['operation']:\n",
    "        if ('confirmation' not in op) and op['platform'] == 'irkit':\n",
    "            labels.append([irkit_operation['time'], classes.index(op['data'][1])])\n",
    "\n",
    "irkit_confirmations =  mongo.confirmation.find({'platform': 'irkit', 'answer': 'True', 'time': {'$gt': start, '$lt': end}})\n",
    "for irkit_confirmation in irkit_confirmations:\n",
    "    if irkit_confirmation['confirmation'] == 'テレビをつけますか?':\n",
    "        labels.append([irkit_confirmation['time'], classes.index('on')])\n",
    "    elif irkit_confirmation['confirmation'] == 'テレビをけしますか?':\n",
    "        labels.append([irkit_confirmation['time'], classes.index('off')])"
   ]
  },
  {
   "cell_type": "code",
   "execution_count": 79,
   "metadata": {},
   "outputs": [
    {
     "data": {
      "text/plain": [
       "[[1515233972.3709023, 0],\n",
       " [1515238054.731465, 1],\n",
       " [1515181780.7417686, 0],\n",
       " [1515181823.0669172, 1],\n",
       " [1515181953.3063886, 0],\n",
       " [1515181965.1250966, 1],\n",
       " [1515233887.0158968, 0],\n",
       " [1515233944.8362386, 1],\n",
       " [1515233980.1109874, 1],\n",
       " [1515237749.7918558, 0],\n",
       " [1515237913.3010225, 0]]"
      ]
     },
     "execution_count": 79,
     "metadata": {},
     "output_type": "execute_result"
    }
   ],
   "source": [
    "labels"
   ]
  },
  {
   "cell_type": "code",
   "execution_count": 94,
   "metadata": {
    "collapsed": true
   },
   "outputs": [],
   "source": [
    "labels = []"
   ]
  },
  {
   "cell_type": "code",
   "execution_count": 117,
   "metadata": {
    "collapsed": true
   },
   "outputs": [],
   "source": [
    "youtube_operations =  mongo.operation.find({'controller': 'YoutubePlayer', 'time': {'$gt': start, '$lt': end}})"
   ]
  },
  {
   "cell_type": "code",
   "execution_count": 128,
   "metadata": {},
   "outputs": [
    {
     "data": {
      "text/plain": [
       "{'_id': ObjectId('5a50af161d41c83c78470fd0'),\n",
       " 'controller': 'YoutubePlayer',\n",
       " 'operation': [{'confirmation': 'ホワイトノイズを再生しますか?',\n",
       "   'data': 'ホワイトノイズ',\n",
       "   'platform': 'play_youtube'}],\n",
       " 'time': 1515237142.9429364,\n",
       " 'user': 'koki'}"
      ]
     },
     "execution_count": 128,
     "metadata": {},
     "output_type": "execute_result"
    }
   ],
   "source": [
    "youtube_operations.next()"
   ]
  },
  {
   "cell_type": "code",
   "execution_count": 129,
   "metadata": {},
   "outputs": [],
   "source": [
    "classes = set()  \n",
    "for youtube_operation in youtube_operations:\n",
    "    for op in youtube_operation['operation']:\n",
    "        if ('confirmation' not in op) and op['platform'] == 'play_youtube':\n",
    "            classes.add(op['data'])\n",
    "            labels.append([youtube_operation['time'], op['data']])\n",
    "        elif ('confirmation' not in op) and op['platform'] == 'stop_youtube':\n",
    "            classes.add('stop')\n",
    "            labels.append([youtube_operation['time'], 'stop'])"
   ]
  },
  {
   "cell_type": "code",
   "execution_count": 145,
   "metadata": {
    "collapsed": true
   },
   "outputs": [],
   "source": [
    "youtube_confirmations =  mongo.confirmation.find({'platform': 'play_youtube', 'answer': 'True', 'time': {'$gt': start, '$lt': end}})\n",
    "for youtube_confirmation in youtube_confirmations:\n",
    "    classes.add(youtube_confirmation['data'])\n",
    "    labels.append([youtube_confirmation['time'], youtube_confirmation['data']])\n",
    "    \n",
    "youtube_confirmations =  mongo.confirmation.find({'platform': 'stop_youtube', 'answer': 'True', 'time': {'$gt': start, '$lt': end}})\n",
    "for youtube_confirmation in youtube_confirmations:\n",
    "    classes.add('stop')\n",
    "    labels.append([youtube_confirmation['time'], 'stop'])"
   ]
  },
  {
   "cell_type": "code",
   "execution_count": 146,
   "metadata": {},
   "outputs": [
    {
     "data": {
      "text/plain": [
       "[[1515236593.1309254, 'ホワイトノイズ'],\n",
       " [1515236727.6453192, 'ホワイトノイズ'],\n",
       " [1515238016.384955, 'ホワイトノイズ'],\n",
       " [1515238016.384955, 'ホワイトノイズ'],\n",
       " [1515238054.7300446, 'stop'],\n",
       " [1515236206.2311873, 'ホワイトノイズ'],\n",
       " [1515237131.7843866, 'ホワイトノイズ'],\n",
       " [1515237501.19113, 'ホワイトノイズ'],\n",
       " [1515236276.4366357, 'stop']]"
      ]
     },
     "execution_count": 146,
     "metadata": {},
     "output_type": "execute_result"
    }
   ],
   "source": [
    "labels"
   ]
  },
  {
   "cell_type": "code",
   "execution_count": 150,
   "metadata": {},
   "outputs": [],
   "source": [
    "ddd = list(classes)"
   ]
  },
  {
   "cell_type": "code",
   "execution_count": 151,
   "metadata": {},
   "outputs": [
    {
     "data": {
      "text/plain": [
       "['ホワイトノイズ', 'stop']"
      ]
     },
     "execution_count": 151,
     "metadata": {},
     "output_type": "execute_result"
    }
   ],
   "source": [
    "ddd"
   ]
  },
  {
   "cell_type": "code",
   "execution_count": 148,
   "metadata": {},
   "outputs": [
    {
     "data": {
      "text/plain": [
       "[[1515236593.1309254, 'ホワイトノイズ'],\n",
       " [1515236727.6453192, 'ホワイトノイズ'],\n",
       " [1515238016.384955, 'ホワイトノイズ'],\n",
       " [1515238016.384955, 'ホワイトノイズ'],\n",
       " [1515238054.7300446, 'stop'],\n",
       " [1515236206.2311873, 'ホワイトノイズ'],\n",
       " [1515237131.7843866, 'ホワイトノイズ'],\n",
       " [1515237501.19113, 'ホワイトノイズ'],\n",
       " [1515236276.4366357, 'stop']]"
      ]
     },
     "execution_count": 148,
     "metadata": {},
     "output_type": "execute_result"
    }
   ],
   "source": [
    "labels2 = [[a, classes_list.index(b) for a, b in labels]]"
   ]
  },
  {
   "cell_type": "code",
   "execution_count": 191,
   "metadata": {},
   "outputs": [],
   "source": [
    "start = strtime_to_epoch(\"2018-01-06 18:05:00\")\n",
    "# end = strtime_to_epoch(\"2018-12-17 15:05:00\")\n",
    "end = 10e10\n",
    "hue_operations =  mongo.operation.find({'controller': 'Test0106', 'time': {'$gt': start, '$lt': end}})"
   ]
  },
  {
   "cell_type": "code",
   "execution_count": 184,
   "metadata": {},
   "outputs": [
    {
     "ename": "TypeError",
     "evalue": "unhashable type: 'list'",
     "output_type": "error",
     "traceback": [
      "\u001b[0;31m---------------------------------------------------------------------------\u001b[0m",
      "\u001b[0;31mTypeError\u001b[0m                                 Traceback (most recent call last)",
      "\u001b[0;32m<ipython-input-184-1b9fc755f8fb>\u001b[0m in \u001b[0;36m<module>\u001b[0;34m()\u001b[0m\n\u001b[1;32m      5\u001b[0m     \u001b[0;32mfor\u001b[0m \u001b[0mop\u001b[0m \u001b[0;32min\u001b[0m \u001b[0mhue_operation\u001b[0m\u001b[0;34m[\u001b[0m\u001b[0;34m'operation'\u001b[0m\u001b[0;34m]\u001b[0m\u001b[0;34m:\u001b[0m\u001b[0;34m\u001b[0m\u001b[0m\n\u001b[1;32m      6\u001b[0m         \u001b[0;32mif\u001b[0m \u001b[0;34m(\u001b[0m\u001b[0;34m'confirmation'\u001b[0m \u001b[0;32mnot\u001b[0m \u001b[0;32min\u001b[0m \u001b[0mop\u001b[0m\u001b[0;34m)\u001b[0m \u001b[0;32mand\u001b[0m \u001b[0mop\u001b[0m\u001b[0;34m[\u001b[0m\u001b[0;34m'platform'\u001b[0m\u001b[0;34m]\u001b[0m \u001b[0;34m==\u001b[0m \u001b[0;34m'hue'\u001b[0m\u001b[0;34m:\u001b[0m\u001b[0;34m\u001b[0m\u001b[0m\n\u001b[0;32m----> 7\u001b[0;31m             \u001b[0mclasses\u001b[0m\u001b[0;34m.\u001b[0m\u001b[0madd\u001b[0m\u001b[0;34m(\u001b[0m\u001b[0mjson\u001b[0m\u001b[0;34m.\u001b[0m\u001b[0mloads\u001b[0m\u001b[0;34m(\u001b[0m\u001b[0mop\u001b[0m\u001b[0;34m[\u001b[0m\u001b[0;34m'data'\u001b[0m\u001b[0;34m]\u001b[0m\u001b[0;34m)\u001b[0m\u001b[0;34m)\u001b[0m\u001b[0;34m\u001b[0m\u001b[0m\n\u001b[0m\u001b[1;32m      8\u001b[0m             \u001b[0mlabels\u001b[0m\u001b[0;34m.\u001b[0m\u001b[0mappend\u001b[0m\u001b[0;34m(\u001b[0m\u001b[0;34m[\u001b[0m\u001b[0mhue_operation\u001b[0m\u001b[0;34m[\u001b[0m\u001b[0;34m'time'\u001b[0m\u001b[0;34m]\u001b[0m\u001b[0;34m,\u001b[0m \u001b[0mjson\u001b[0m\u001b[0;34m.\u001b[0m\u001b[0mloads\u001b[0m\u001b[0;34m(\u001b[0m\u001b[0mop\u001b[0m\u001b[0;34m[\u001b[0m\u001b[0;34m'data'\u001b[0m\u001b[0;34m]\u001b[0m\u001b[0;34m)\u001b[0m\u001b[0;34m]\u001b[0m\u001b[0;34m)\u001b[0m\u001b[0;34m\u001b[0m\u001b[0m\n",
      "\u001b[0;31mTypeError\u001b[0m: unhashable type: 'list'"
     ]
    }
   ],
   "source": [
    "classes = set()\n",
    "labels = []\n",
    "import json\n",
    "for hue_operation in hue_operations:\n",
    "    for op in hue_operation['operation']:\n",
    "        if ('confirmation' not in op) and op['platform'] == 'hue':\n",
    "            classes.add(op['data']))\n",
    "            labels.append([hue_operation['time'], json.loads(op['data'])])"
   ]
  },
  {
   "cell_type": "code",
   "execution_count": 209,
   "metadata": {},
   "outputs": [
    {
     "data": {
      "text/plain": [
       "{'_id': ObjectId('5a5093d61d41c879b2ec1de8'),\n",
       " 'controller': 'Test0106',\n",
       " 'operation': [{'data': '電気をオフにします', 'platform': 'tts'},\n",
       "  {'data': '[{\"state\": {\"on\": false}, \"id\": \"1\"}, {\"state\": {\"on\": false}, \"id\": \"2\"}, {\"state\": {\"on\": false}, \"id\": \"3\"}]',\n",
       "   'platform': 'hue'}],\n",
       " 'time': 1515230166.805435,\n",
       " 'user': 'koki'}"
      ]
     },
     "execution_count": 209,
     "metadata": {},
     "output_type": "execute_result"
    }
   ],
   "source": [
    "hoge = hue_operations.next()\n",
    "hoge"
   ]
  },
  {
   "cell_type": "code",
   "execution_count": 210,
   "metadata": {},
   "outputs": [
    {
     "data": {
      "text/plain": [
       "[{'id': '1', 'state': {'on': False}},\n",
       " {'id': '2', 'state': {'on': False}},\n",
       " {'id': '3', 'state': {'on': False}}]"
      ]
     },
     "execution_count": 210,
     "metadata": {},
     "output_type": "execute_result"
    }
   ],
   "source": [
    "a = json.loads(hoge['operation'][1]['data'])\n",
    "a"
   ]
  },
  {
   "cell_type": "code",
   "execution_count": 203,
   "metadata": {},
   "outputs": [
    {
     "data": {
      "text/plain": [
       "True"
      ]
     },
     "execution_count": 203,
     "metadata": {},
     "output_type": "execute_result"
    }
   ],
   "source": [
    "a == json.loads(hoge['operation'][1]['data'])"
   ]
  },
  {
   "cell_type": "code",
   "execution_count": 204,
   "metadata": {},
   "outputs": [
    {
     "data": {
      "text/plain": [
       "[{'id': '1', 'state': {'bri': 254, 'hue': 14957, 'on': True, 'sat': 141}},\n",
       " {'id': '2', 'state': {'bri': 254, 'hue': 14957, 'on': True, 'sat': 141}},\n",
       " {'id': '3', 'state': {'bri': 254, 'hue': 14957, 'on': True, 'sat': 141}}]"
      ]
     },
     "execution_count": 204,
     "metadata": {},
     "output_type": "execute_result"
    }
   ],
   "source": [
    "if json.loads(hoge['operation'][1]['data']) == [{'id': '1', 'state': {'bri': 254, 'hue': 14957, 'on': True, 'sat': 141}},\n",
    " {'id': '2', 'state': {'bri': 254, 'hue': 14957, 'on': True, 'sat': 141}},\n",
    " {'id': '3', 'state': {'bri': 254, 'hue': 14957, 'on': True, 'sat': 141}}]:\n",
    "    "
   ]
  },
  {
   "cell_type": "code",
   "execution_count": 181,
   "metadata": {},
   "outputs": [
    {
     "data": {
      "text/plain": [
       "{'[{\"id\": \"1\", \"state\": {\"hue\": 33016, \"sat\": 53, \"bri\": 254, \"on\": true}}, {\"id\": \"2\", \"state\": {\"hue\": 33016, \"sat\": 53, \"bri\": 254, \"on\": true}}, {\"id\": \"3\", \"state\": {\"hue\": 33016, \"sat\": 53, \"bri\": 254, \"on\": true}}]',\n",
       " '[{\"id\": \"1\", \"state\": {\"on\": true, \"sat\": 141, \"hue\": 14957, \"bri\": 254}}, {\"id\": \"2\", \"state\": {\"on\": true, \"sat\": 141, \"hue\": 14957, \"bri\": 254}}, {\"id\": \"3\", \"state\": {\"on\": true, \"sat\": 141, \"hue\": 14957, \"bri\": 254}}]',\n",
       " '[{\"id\": \"1\", \"state\": {\"on\": true, \"sat\": 53, \"hue\": 33016, \"bri\": 254}}, {\"id\": \"2\", \"state\": {\"on\": true, \"sat\": 53, \"hue\": 33016, \"bri\": 254}}, {\"id\": \"3\", \"state\": {\"on\": true, \"sat\": 53, \"hue\": 33016, \"bri\": 254}}]',\n",
       " '[{\"state\": {\"hue\": 14957, \"sat\": 141, \"bri\": 254, \"on\": true}, \"id\": \"1\"}, {\"state\": {\"hue\": 14957, \"sat\": 141, \"bri\": 254, \"on\": true}, \"id\": \"2\"}, {\"state\": {\"hue\": 14957, \"sat\": 141, \"bri\": 254, \"on\": true}, \"id\": \"3\"}]',\n",
       " '[{\"state\": {\"hue\": 33016, \"sat\": 53, \"bri\": 254, \"on\": true}, \"id\": \"1\"}, {\"state\": {\"hue\": 33016, \"sat\": 53, \"bri\": 254, \"on\": true}, \"id\": \"2\"}, {\"state\": {\"hue\": 33016, \"sat\": 53, \"bri\": 254, \"on\": true}, \"id\": \"3\"}]',\n",
       " '[{\"state\": {\"on\": false}, \"id\": \"1\"}, {\"state\": {\"on\": false}, \"id\": \"2\"}, {\"state\": {\"on\": false}, \"id\": \"3\"}]',\n",
       " '[{\"state\": {\"on\": true, \"bri\": 254, \"hue\": 14957, \"sat\": 141}, \"id\": \"1\"}, {\"state\": {\"on\": true, \"bri\": 254, \"hue\": 14957, \"sat\": 141}, \"id\": \"2\"}, {\"state\": {\"on\": true, \"bri\": 254, \"hue\": 14957, \"sat\": 141}, \"id\": \"3\"}]',\n",
       " '[{\"state\": {\"on\": true, \"bri\": 254, \"hue\": 33016, \"sat\": 53}, \"id\": \"1\"}, {\"state\": {\"on\": true, \"bri\": 254, \"hue\": 33016, \"sat\": 53}, \"id\": \"2\"}, {\"state\": {\"on\": true, \"bri\": 254, \"hue\": 33016, \"sat\": 53}, \"id\": \"3\"}]'}"
      ]
     },
     "execution_count": 181,
     "metadata": {},
     "output_type": "execute_result"
    }
   ],
   "source": [
    "classes"
   ]
  },
  {
   "cell_type": "code",
   "execution_count": 177,
   "metadata": {},
   "outputs": [
    {
     "data": {
      "text/plain": [
       "[[1515229897.2163348,\n",
       "  '[{\"id\": \"1\", \"state\": {\"on\": true, \"sat\": 141, \"hue\": 14957, \"bri\": 254}}, {\"id\": \"2\", \"state\": {\"on\": true, \"sat\": 141, \"hue\": 14957, \"bri\": 254}}, {\"id\": \"3\", \"state\": {\"on\": true, \"sat\": 141, \"hue\": 14957, \"bri\": 254}}]'],\n",
       " [1515229949.3192773,\n",
       "  '[{\"id\": \"1\", \"state\": {\"on\": true, \"sat\": 53, \"hue\": 33016, \"bri\": 254}}, {\"id\": \"2\", \"state\": {\"on\": true, \"sat\": 53, \"hue\": 33016, \"bri\": 254}}, {\"id\": \"3\", \"state\": {\"on\": true, \"sat\": 53, \"hue\": 33016, \"bri\": 254}}]'],\n",
       " [1515230141.180791,\n",
       "  '[{\"state\": {\"hue\": 33016, \"sat\": 53, \"bri\": 254, \"on\": true}, \"id\": \"1\"}, {\"state\": {\"hue\": 33016, \"sat\": 53, \"bri\": 254, \"on\": true}, \"id\": \"2\"}, {\"state\": {\"hue\": 33016, \"sat\": 53, \"bri\": 254, \"on\": true}, \"id\": \"3\"}]'],\n",
       " [1515230166.805435,\n",
       "  '[{\"state\": {\"on\": false}, \"id\": \"1\"}, {\"state\": {\"on\": false}, \"id\": \"2\"}, {\"state\": {\"on\": false}, \"id\": \"3\"}]'],\n",
       " [1515230256.7558606,\n",
       "  '[{\"state\": {\"hue\": 33016, \"sat\": 53, \"bri\": 254, \"on\": true}, \"id\": \"1\"}, {\"state\": {\"hue\": 33016, \"sat\": 53, \"bri\": 254, \"on\": true}, \"id\": \"2\"}, {\"state\": {\"hue\": 33016, \"sat\": 53, \"bri\": 254, \"on\": true}, \"id\": \"3\"}]'],\n",
       " [1515230283.6463628,\n",
       "  '[{\"state\": {\"hue\": 14957, \"sat\": 141, \"bri\": 254, \"on\": true}, \"id\": \"1\"}, {\"state\": {\"hue\": 14957, \"sat\": 141, \"bri\": 254, \"on\": true}, \"id\": \"2\"}, {\"state\": {\"hue\": 14957, \"sat\": 141, \"bri\": 254, \"on\": true}, \"id\": \"3\"}]'],\n",
       " [1515232918.9161975,\n",
       "  '[{\"state\": {\"on\": true, \"bri\": 254, \"hue\": 33016, \"sat\": 53}, \"id\": \"1\"}, {\"state\": {\"on\": true, \"bri\": 254, \"hue\": 33016, \"sat\": 53}, \"id\": \"2\"}, {\"state\": {\"on\": true, \"bri\": 254, \"hue\": 33016, \"sat\": 53}, \"id\": \"3\"}]'],\n",
       " [1515232932.3959007,\n",
       "  '[{\"state\": {\"on\": false}, \"id\": \"1\"}, {\"state\": {\"on\": false}, \"id\": \"2\"}, {\"state\": {\"on\": false}, \"id\": \"3\"}]'],\n",
       " [1515233001.390852,\n",
       "  '[{\"state\": {\"on\": true, \"bri\": 254, \"hue\": 14957, \"sat\": 141}, \"id\": \"1\"}, {\"state\": {\"on\": true, \"bri\": 254, \"hue\": 14957, \"sat\": 141}, \"id\": \"2\"}, {\"state\": {\"on\": true, \"bri\": 254, \"hue\": 14957, \"sat\": 141}, \"id\": \"3\"}]'],\n",
       " [1515233022.250762,\n",
       "  '[{\"state\": {\"on\": true, \"bri\": 254, \"hue\": 33016, \"sat\": 53}, \"id\": \"1\"}, {\"state\": {\"on\": true, \"bri\": 254, \"hue\": 33016, \"sat\": 53}, \"id\": \"2\"}, {\"state\": {\"on\": true, \"bri\": 254, \"hue\": 33016, \"sat\": 53}, \"id\": \"3\"}]'],\n",
       " [1515237964.844595,\n",
       "  '[{\"id\": \"1\", \"state\": {\"hue\": 33016, \"sat\": 53, \"bri\": 254, \"on\": true}}, {\"id\": \"2\", \"state\": {\"hue\": 33016, \"sat\": 53, \"bri\": 254, \"on\": true}}, {\"id\": \"3\", \"state\": {\"hue\": 33016, \"sat\": 53, \"bri\": 254, \"on\": true}}]']]"
      ]
     },
     "execution_count": 177,
     "metadata": {},
     "output_type": "execute_result"
    }
   ],
   "source": [
    "labels"
   ]
  }
 ],
 "metadata": {
  "kernelspec": {
   "display_name": "Python 3",
   "language": "python",
   "name": "python3"
  },
  "language_info": {
   "codemirror_mode": {
    "name": "ipython",
    "version": 3
   },
   "file_extension": ".py",
   "mimetype": "text/x-python",
   "name": "python",
   "nbconvert_exporter": "python",
   "pygments_lexer": "ipython3",
   "version": "3.5.3"
  }
 },
 "nbformat": 4,
 "nbformat_minor": 2
}
