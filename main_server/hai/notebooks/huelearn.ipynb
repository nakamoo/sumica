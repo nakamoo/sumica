{
 "cells": [
  {
   "cell_type": "code",
   "execution_count": 1,
   "metadata": {},
   "outputs": [
    {
     "name": "stdout",
     "output_type": "stream",
     "text": [
      "Input password for image encryption.\n",
      "········\n"
     ]
    }
   ],
   "source": [
    "import sys\n",
    "import os\n",
    "from matplotlib import pyplot as plt\n",
    "\n",
    "sys.path.append(\"..\")\n",
    "os.chdir(\"/home/sean/HAI/main_server/hai\")\n",
    "import hai"
   ]
  },
  {
   "cell_type": "code",
   "execution_count": 20,
   "metadata": {
    "collapsed": true
   },
   "outputs": [],
   "source": [
    "import database as db"
   ]
  },
  {
   "cell_type": "code",
   "execution_count": null,
   "metadata": {
    "collapsed": true
   },
   "outputs": [],
   "source": []
  },
  {
   "cell_type": "code",
   "execution_count": 3,
   "metadata": {
    "collapsed": true
   },
   "outputs": [],
   "source": []
  },
  {
   "cell_type": "code",
   "execution_count": null,
   "metadata": {
    "collapsed": true
   },
   "outputs": [],
   "source": []
  },
  {
   "cell_type": "code",
   "execution_count": null,
   "metadata": {
    "collapsed": true
   },
   "outputs": [],
   "source": []
  },
  {
   "cell_type": "code",
   "execution_count": 206,
   "metadata": {},
   "outputs": [
    {
     "name": "stdout",
     "output_type": "stream",
     "text": [
      "1504945041.2682316\n"
     ]
    }
   ],
   "source": [
    "import time\n",
    "current_time = time.time()\n",
    "print(current_time)"
   ]
  },
  {
   "cell_type": "code",
   "execution_count": 207,
   "metadata": {},
   "outputs": [
    {
     "name": "stdout",
     "output_type": "stream",
     "text": [
      "6514 2804\n"
     ]
    }
   ],
   "source": [
    "query = {\"user_name\": \"sean\", \"cam_id\": \"-1\", \"summary\":{\"$exists\": True}, \"time\": {\"$gt\": current_time}}\n",
    "n = db.mongo.images.find(query).sort([(\"time\",-1)])\n",
    "image_data = list(n)\n",
    "\n",
    "query = {\"user_name\": \"sean\", \"time\": {\"$gt\": current_time}}\n",
    "n = db.mongo.hue.find(query).sort([(\"time\",-1)])\n",
    "hue_data = list(n)\n",
    "\n",
    "print(len(image_data), len(hue_data))"
   ]
  },
  {
   "cell_type": "code",
   "execution_count": 208,
   "metadata": {},
   "outputs": [
    {
     "data": {
      "image/png": "[encoded data removed]",
      "text/plain": [
       "<matplotlib.figure.Figure at 0x7f9fe20615f8>"
      ]
     },
     "metadata": {},
     "output_type": "display_data"
    }
   ],
   "source": [
    "import numpy as np\n",
    "import time\n",
    "current_time = time.time()\n",
    "image_times = [img[\"time\"]-current_time for img in image_data]\n",
    "hue_times = [d[\"time\"]-current_time for d in hue_data]\n",
    "plt.scatter(image_times, np.ones(len(image_times)), color=\"blue\")\n",
    "plt.scatter(hue_times, np.ones(len(hue_times))*2, color=\"red\")\n",
    "plt.show()"
   ]
  },
  {
   "cell_type": "code",
   "execution_count": 209,
   "metadata": {},
   "outputs": [
    {
     "data": {
      "text/plain": [
       "{'_id': ObjectId('59b3a3891d41c87937e306ed'),\n",
       " 'lights': '[{\"id\": \"1\", \"modelid\": \"LCT007\", \"state\": {\"on\": true, \"xy\": [0, 0], \"hue\": 0, \"reachable\": false, \"effect\": \"none\", \"alert\": \"none\", \"colormode\": \"hs\", \"sat\": 0, \"ct\": 0, \"bri\": 0}, \"type\": \"Extended color light\", \"uniqueid\": \"00:17:88:01:02:06:bc:4f-0b\", \"name\": \"Hue color lamp 1\", \"swversion\": \"\", \"manufacturername\": \"Philips\"}, {\"id\": \"2\", \"modelid\": \"LCT007\", \"state\": {\"on\": false, \"xy\": [0.4449, 0.4066], \"hue\": 15327, \"reachable\": true, \"effect\": \"none\", \"alert\": \"none\", \"colormode\": \"ct\", \"sat\": 121, \"ct\": 346, \"bri\": 112}, \"type\": \"Extended color light\", \"uniqueid\": \"00:17:88:01:02:04:d6:7c-0b\", \"name\": \"Hue color lamp 2\", \"swversion\": \"5.38.1.14919\", \"manufacturername\": \"Philips\"}, {\"id\": \"3\", \"modelid\": \"LCT007\", \"state\": {\"on\": false, \"xy\": [0.4449, 0.4066], \"hue\": 15324, \"reachable\": true, \"effect\": \"none\", \"alert\": \"none\", \"colormode\": \"ct\", \"sat\": 121, \"ct\": 346, \"bri\": 254}, \"type\": \"Extended color light\", \"uniqueid\": \"00:17:88:01:02:06:bb:4c-0b\", \"name\": \"Hue color lamp 3\", \"swversion\": \"5.50.1.19085\", \"manufacturername\": \"Philips\"}]',\n",
       " 'time': 1504945033.3437128,\n",
       " 'user_name': 'sean'}"
      ]
     },
     "execution_count": 209,
     "metadata": {},
     "output_type": "execute_result"
    }
   ],
   "source": [
    "hue_data[0]"
   ]
  },
  {
   "cell_type": "code",
   "execution_count": 210,
   "metadata": {
    "collapsed": true
   },
   "outputs": [],
   "source": [
    "def get_objects(data):\n",
    "    look_all, touch_all = [], []\n",
    "    for n in data:\n",
    "        look_objects = []\n",
    "        touch_objects = []\n",
    "        for obj in n[\"summary\"]:\n",
    "            if obj[\"label\"] == \"person\" and \"touching\" in obj:\n",
    "                touch_objects.extend(obj[\"touching\"])\n",
    "                look_objects.append(obj[\"looking\"])\n",
    "        look_all.extend(look_objects)\n",
    "        touch_all.extend(touch_objects)\n",
    "    return touch_all, look_all\n",
    "\n",
    "touch_list, look_list = get_objects(image_data)\n",
    "touch_classes = list(set(touch_list))\n",
    "look_classes = list(set(look_list))\n",
    "look_classes.remove(\"None\")"
   ]
  },
  {
   "cell_type": "code",
   "execution_count": 211,
   "metadata": {},
   "outputs": [
    {
     "name": "stdout",
     "output_type": "stream",
     "text": [
      "['remote', 'keyboard', 'person', 'laptop', 'dog', 'couch', 'handbag', 'cat', 'bottle', 'book', 'cell phone'] ['remote', 'person', 'laptop', 'keyboard', 'dog', 'couch', 'handbag', 'cat', 'book', 'cell phone']\n"
     ]
    },
    {
     "data": {
      "text/plain": [
       "2"
      ]
     },
     "execution_count": 211,
     "metadata": {},
     "output_type": "execute_result"
    }
   ],
   "source": [
    "print(touch_classes, look_classes)\n",
    "touch_classes.index(\"person\")"
   ]
  },
  {
   "cell_type": "code",
   "execution_count": 212,
   "metadata": {
    "collapsed": true
   },
   "outputs": [],
   "source": [
    "def data2vec(data):\n",
    "    person_exists = 0\n",
    "    touch_vec = np.zeros(len(touch_classes))\n",
    "    look_vec = np.zeros(len(look_classes))\n",
    "    #brightness = data[\"brightness\"]\n",
    "\n",
    "    for obj in data[\"summary\"]:\n",
    "        if obj[\"label\"] == \"person\":\n",
    "            person_exists = 1\n",
    "            \n",
    "            if \"touching\" in obj:\n",
    "                for t_obj in obj[\"touching\"]:\n",
    "                    touch_vec[touch_classes.index(t_obj)] = 1\n",
    "                if obj[\"looking\"] and obj[\"looking\"] != \"None\":\n",
    "                    look_vec[look_classes.index(obj[\"looking\"])] = 1\n",
    "        \n",
    "    return np.concatenate([[person_exists], touch_vec, look_vec])"
   ]
  },
  {
   "cell_type": "code",
   "execution_count": 213,
   "metadata": {
    "collapsed": true
   },
   "outputs": [],
   "source": [
    "hue_classes = []\n",
    "dataX = [] # summaries\n",
    "dataY = [] # corresponding hue classes?\n",
    "\n",
    "dataX = [data2vec(data) for data in image_data]"
   ]
  },
  {
   "cell_type": "code",
   "execution_count": 214,
   "metadata": {},
   "outputs": [
    {
     "name": "stdout",
     "output_type": "stream",
     "text": [
      "(6514, 22)\n"
     ]
    }
   ],
   "source": [
    "dataX = np.array(dataX)\n",
    "print(dataX.shape)"
   ]
  },
  {
   "cell_type": "code",
   "execution_count": 215,
   "metadata": {},
   "outputs": [
    {
     "data": {
      "text/plain": [
       "<matplotlib.image.AxesImage at 0x7f9fe1dcd908>"
      ]
     },
     "execution_count": 215,
     "metadata": {},
     "output_type": "execute_result"
    },
    {
     "data": {
      "image/png": "[encoded data removed]",
      "text/plain": [
       "<matplotlib.figure.Figure at 0x7f9fe1bb3198>"
      ]
     },
     "metadata": {},
     "output_type": "display_data"
    },
    {
     "name": "stdout",
     "output_type": "stream",
     "text": [
      "missing file ./pose_data/36d158d2-3fab-4670-b838-7e19f9a2929a_keypoints.json\n",
      "missing file ./pose_data/abc0bc1f-d1d2-4628-96e5-04ca0996606a_keypoints.json\n"
     ]
    }
   ],
   "source": [
    "%matplotlib inline\n",
    "plt.imshow(dataX.T, aspect=\"auto\")"
   ]
  },
  {
   "cell_type": "code",
   "execution_count": null,
   "metadata": {
    "collapsed": true
   },
   "outputs": [],
   "source": [
    "from sklearn import neighbors\n",
    "from sklearn import preprocessing\n",
    "from sklearn.tree import DecisionTreeClassifier\n",
    "\n",
    "dataX = preprocessing.scale(dataX)\n",
    "clf = neighbors.KNeighborsClassifier(n_neighbors, weights=weights)\n",
    "clf.fit(dataX, dataY)\n",
    "score = clf.score(dataX, dataY)\n",
    "print(\"knn:\", score)\n",
    "\n",
    "from sklearn import linear_model\n",
    "logreg = linear_model.LogisticRegression(C=1e5)\n",
    "logreg.fit(dataX, dataY)\n",
    "score = logreg.score(dataX, dataY)\n",
    "print(\"logreg:\", score)\n",
    "\n",
    "clf_gini = DecisionTreeClassifier(criterion = \"gini\", random_state = 100,\n",
    "                               max_depth=3, min_samples_leaf=5)\n",
    "clf_gini.fit(dataX, dataY)\n",
    "score = clf_gini.score(dataX, dataY)\n",
    "print(\"tree:\", score)"
   ]
  }
 ],
 "metadata": {
  "kernelspec": {
   "display_name": "Python 3",
   "language": "python",
   "name": "python3"
  },
  "language_info": {
   "codemirror_mode": {
    "name": "ipython",
    "version": 3
   },
   "file_extension": ".py",
   "mimetype": "text/x-python",
   "name": "python",
   "nbconvert_exporter": "python",
   "pygments_lexer": "ipython3",
   "version": "3.6.1"
  }
 },
 "nbformat": 4,
 "nbformat_minor": 2
}
