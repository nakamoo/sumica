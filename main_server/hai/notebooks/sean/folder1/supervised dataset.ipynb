{
 "cells": [
  {
   "cell_type": "code",
   "execution_count": 1,
   "metadata": {
    "collapsed": true
   },
   "outputs": [],
   "source": [
    "import os\n",
    "import sys\n",
    "\n",
    "sys.path.append(\"..\")\n",
    "os.chdir(\"/home/sean/HAI/main_server/hai\")\n",
    "from controllers.learner.datasets import get_image_data, get_hue_data, connect_hue_image\n",
    "import controllers.learner.datasets as ds"
   ]
  },
  {
   "cell_type": "code",
   "execution_count": 12,
   "metadata": {
    "collapsed": true
   },
   "outputs": [],
   "source": [
    "import time\n",
    "start_time = time.time() - 400000\n",
    "end_time = time.time()\n",
    "username = \"sean\""
   ]
  },
  {
   "cell_type": "code",
   "execution_count": 13,
   "metadata": {
    "collapsed": true
   },
   "outputs": [],
   "source": [
    "img_data = list(get_image_data(username, start_time, end_time))\n",
    "hue_data = get_hue_data(username, start_time, end_time)"
   ]
  },
  {
   "cell_type": "code",
   "execution_count": 14,
   "metadata": {},
   "outputs": [
    {
     "name": "stdout",
     "output_type": "stream",
     "text": [
      "205173 30460\n"
     ]
    }
   ],
   "source": [
    "print(len(img_data), len(hue_data))"
   ]
  },
  {
   "cell_type": "code",
   "execution_count": 15,
   "metadata": {},
   "outputs": [
    {
     "data": {
      "text/plain": [
       "[<matplotlib.lines.Line2D at 0x7f2d08b94eb8>]"
      ]
     },
     "execution_count": 15,
     "metadata": {},
     "output_type": "execute_result"
    },
    {
     "data": {
      "image/png": "[encoded data removed]",
      "text/plain": [
       "<matplotlib.figure.Figure at 0x7f2d0883b0b8>"
      ]
     },
     "metadata": {},
     "output_type": "display_data"
    }
   ],
   "source": [
    "import matplotlib.pyplot as plt\n",
    "import numpy as np\n",
    "%matplotlib inline\n",
    "\n",
    "img_times = np.array([d[\"time\"] for d in img_data])\n",
    "plt.plot(img_times, np.ones(img_times.shape[0]), \"o\")\n",
    "\n",
    "hue_times = np.array([d[\"time\"] for d in hue_data])\n",
    "plt.plot(hue_times, np.ones(hue_times.shape[0])+1, \"o\")"
   ]
  },
  {
   "cell_type": "code",
   "execution_count": 16,
   "metadata": {
    "collapsed": true
   },
   "outputs": [],
   "source": [
    "image_features = [np.load(\"./image_features/\" + fn[\"image_features_filename\"]) for fn in img_data]"
   ]
  },
  {
   "cell_type": "code",
   "execution_count": 17,
   "metadata": {
    "collapsed": true
   },
   "outputs": [],
   "source": [
    "new_hue_data, n_lights = ds.reshape_hue_data(hue_data)\n",
    "hue_classes, labels, counts = ds.get_hue_labels(new_hue_data)"
   ]
  },
  {
   "cell_type": "code",
   "execution_count": null,
   "metadata": {
    "collapsed": true
   },
   "outputs": [],
   "source": [
    "\n",
    "            "
   ]
  },
  {
   "cell_type": "code",
   "execution_count": 18,
   "metadata": {},
   "outputs": [
    {
     "name": "stdout",
     "output_type": "stream",
     "text": [
      "[(0.0, 0.0, 0.0, 0.0, 0.0, 0.0, 0.0, 0.0, 0.0, 0.0, 0.0, 1.0, 15324.0, 254.0, 254.0), (0.0, 1.0, 14910.0, 144.0, 254.0, 0.0, 0.0, 0.0, 0.0, 0.0, 0.0, 1.0, 15324.0, 254.0, 254.0), (0.0, 0.0, 0.0, 0.0, 0.0, 0.0, 0.0, 0.0, 0.0, 0.0, 0.0, 1.0, 0.0, 0.0, 0.0), (0.0, 0.0, 0.0, 0.0, 0.0, 1.0, 1.0, 13537.0, 200.0, 144.0, 0.0, 1.0, 0.0, 0.0, 0.0), (1.0, 1.0, 33862.0, 50.0, 254.0, 1.0, 1.0, 33862.0, 50.0, 254.0, 0.0, 1.0, 0.0, 0.0, 0.0)]\n"
     ]
    }
   ],
   "source": [
    "y = connect_hue_image(img_data, hue_data, labels)\n",
    "print(hue_classes)"
   ]
  },
  {
   "cell_type": "code",
   "execution_count": null,
   "metadata": {},
   "outputs": [],
   "source": [
    "colors = []\n",
    "import matplotlib\n",
    "\n",
    "for i, label in enumerate(y):\n",
    "    if i % 1000 == 0:\n",
    "        print(i, \"/\", len(y), flush=True)\n",
    "    \n",
    "    if label == len(hue_classes):\n",
    "        hsb = [0, 0, 0]\n",
    "    else:\n",
    "        hue_class = hue_classes[label]\n",
    "        hsb = [hue_class[7]/65536.0, hue_class[8]/255.0, hue_class[9]/255.0]\n",
    "    rgb = matplotlib.colors.hsv_to_rgb(hsb)\n",
    "    colors.append(rgb)\n",
    "print(\"done\")"
   ]
  },
  {
   "cell_type": "code",
   "execution_count": null,
   "metadata": {
    "collapsed": true
   },
   "outputs": [],
   "source": [
    "from sklearn.manifold import TSNE    \n",
    "tsne = TSNE(n_components=2)\n",
    "x = tsne.fit_transform(image_features)\n",
    "plt.scatter(x[:,0][::-1], x[:,1][::-1], c=colors[::-1], cmap='rgb')"
   ]
  },
  {
   "cell_type": "code",
   "execution_count": null,
   "metadata": {
    "collapsed": true
   },
   "outputs": [],
   "source": [
    "from sklearn.decomposition import PCA    \n",
    "tsne = PCA(n_components=2)\n",
    "x = tsne.fit_transform(image_features)\n",
    "plt.scatter(x[:,0][::-1], x[:,1][::-1], c=colors[::-1], cmap='rgb')"
   ]
  },
  {
   "cell_type": "code",
   "execution_count": null,
   "metadata": {
    "collapsed": true
   },
   "outputs": [],
   "source": []
  },
  {
   "cell_type": "code",
   "execution_count": null,
   "metadata": {
    "collapsed": true
   },
   "outputs": [],
   "source": []
  },
  {
   "cell_type": "code",
   "execution_count": null,
   "metadata": {
    "collapsed": true
   },
   "outputs": [],
   "source": []
  },
  {
   "cell_type": "code",
   "execution_count": null,
   "metadata": {
    "collapsed": true
   },
   "outputs": [],
   "source": []
  },
  {
   "cell_type": "code",
   "execution_count": null,
   "metadata": {
    "collapsed": true
   },
   "outputs": [],
   "source": []
  },
  {
   "cell_type": "code",
   "execution_count": null,
   "metadata": {
    "collapsed": true
   },
   "outputs": [],
   "source": []
  },
  {
   "cell_type": "code",
   "execution_count": null,
   "metadata": {
    "collapsed": true
   },
   "outputs": [],
   "source": []
  },
  {
   "cell_type": "code",
   "execution_count": null,
   "metadata": {
    "collapsed": true
   },
   "outputs": [],
   "source": []
  },
  {
   "cell_type": "code",
   "execution_count": null,
   "metadata": {
    "collapsed": true
   },
   "outputs": [],
   "source": []
  },
  {
   "cell_type": "code",
   "execution_count": null,
   "metadata": {
    "collapsed": true
   },
   "outputs": [],
   "source": []
  }
 ],
 "metadata": {
  "kernelspec": {
   "display_name": "Python 3",
   "language": "python",
   "name": "python3"
  },
  "language_info": {
   "codemirror_mode": {
    "name": "ipython",
    "version": 3
   },
   "file_extension": ".py",
   "mimetype": "text/x-python",
   "name": "python",
   "nbconvert_exporter": "python",
   "pygments_lexer": "ipython3",
   "version": "3.6.1"
  }
 },
 "nbformat": 4,
 "nbformat_minor": 2
}
