{
 "cells": [
  {
   "cell_type": "code",
   "execution_count": 1,
   "metadata": {},
   "outputs": [],
   "source": [
    "import os\n",
    "import sys\n",
    "\n",
    "sys.path.append(\"..\")\n",
    "os.chdir(\"/home/sean/HAI/main_server/sumica\")"
   ]
  },
  {
   "cell_type": "code",
   "execution_count": 2,
   "metadata": {
    "collapsed": true
   },
   "outputs": [],
   "source": [
    "from controllers.tests.learner2 import Learner"
   ]
  },
  {
   "cell_type": "code",
   "execution_count": 3,
   "metadata": {
    "collapsed": true
   },
   "outputs": [],
   "source": [
    "learner = Learner(\"sean\", [\"webcam0\", \"webcam1\"])"
   ]
  },
  {
   "cell_type": "code",
   "execution_count": 4,
   "metadata": {},
   "outputs": [
    {
     "name": "stdout",
     "output_type": "stream",
     "text": [
      "1516102054 1516104406\n"
     ]
    }
   ],
   "source": [
    "import time\n",
    "from utils import db\n",
    "start_time = 1516102234-180\n",
    "end_time = 1516104406\n",
    "results = db.labels.find({\"username\": \"sean\", \"time\": {\"$gt\": start_time, \"$lt\": end_time}})\n",
    "label_types = results.distinct(\"label\")\n",
    "results = list(results)\n",
    "print(start_time, end_time)"
   ]
  },
  {
   "cell_type": "code",
   "execution_count": 5,
   "metadata": {},
   "outputs": [
    {
     "data": {
      "text/plain": [
       "[]"
      ]
     },
     "execution_count": 5,
     "metadata": {},
     "output_type": "execute_result"
    }
   ],
   "source": [
    "results"
   ]
  },
  {
   "cell_type": "code",
   "execution_count": 6,
   "metadata": {},
   "outputs": [
    {
     "data": {
      "text/plain": [
       "{'activity': []}"
      ]
     },
     "execution_count": 6,
     "metadata": {},
     "output_type": "execute_result"
    }
   ],
   "source": [
    "labels = [r[\"label\"] for r in results]\n",
    "results = [(r[\"time\"], label_types.index(r[\"label\"])) for r in results]\n",
    "labels = {\"activity\": results}\n",
    "labels"
   ]
  },
  {
   "cell_type": "code",
   "execution_count": 7,
   "metadata": {},
   "outputs": [],
   "source": [
    "%load_ext autoreload\n",
    "%autoreload 2\n",
    "\n",
    "from flask import Flask\n",
    "\n",
    "username = \"sean\"\n",
    "\n",
    "app = Flask(__name__)\n",
    "app.config.from_object('config.Config')\n",
    "\n",
    "with app.app_context():\n",
    "    from controllers.activitylearner import ActivityLearner\n",
    "    cams = ActivityLearner.get_cams(username, start_time, end_time)"
   ]
  },
  {
   "cell_type": "code",
   "execution_count": 8,
   "metadata": {
    "collapsed": true
   },
   "outputs": [],
   "source": [
    "from controllers.dbreader.imagereader import ImageReader\n",
    "\n",
    "imreader = ImageReader()\n",
    "\n",
    "if end_time is None:\n",
    "    end_time = time.time()\n",
    "\n",
    "imdata, times = imreader.read_db(username, start_time, end_time, cams, skip_absent=False)"
   ]
  },
  {
   "cell_type": "code",
   "execution_count": 10,
   "metadata": {},
   "outputs": [],
   "source": [
    "from controllers.tests.learner2 import Learner\n",
    "\n",
    "learner = Learner(username, cams)\n",
    "X, meta = learner.create_image_matrix(imdata)"
   ]
  },
  {
   "cell_type": "code",
   "execution_count": 11,
   "metadata": {},
   "outputs": [
    {
     "data": {
      "text/plain": [
       "(11, 1078)"
      ]
     },
     "execution_count": 11,
     "metadata": {},
     "output_type": "execute_result"
    }
   ],
   "source": [
    "X.shape"
   ]
  },
  {
   "cell_type": "code",
   "execution_count": 12,
   "metadata": {},
   "outputs": [
    {
     "data": {
      "text/plain": [
       "[1516102183.4479513,\n",
       " 1516102191.210525,\n",
       " 1516102195.7154136,\n",
       " 1516102200.3172812,\n",
       " 1516102205.1525302,\n",
       " 1516102209.5608864,\n",
       " 1516102214.0425346,\n",
       " 1516104147.8266025,\n",
       " 1516104152.428377,\n",
       " 1516104156.7281446,\n",
       " 1516104160.1172004]"
      ]
     },
     "execution_count": 12,
     "metadata": {},
     "output_type": "execute_result"
    }
   ],
   "source": [
    "times"
   ]
  },
  {
   "cell_type": "code",
   "execution_count": 13,
   "metadata": {},
   "outputs": [
    {
     "data": {
      "text/plain": [
       "array([False, False, False, False, False, False,  True, False, False, False], dtype=bool)"
      ]
     },
     "execution_count": 13,
     "metadata": {},
     "output_type": "execute_result"
    }
   ],
   "source": [
    "intervals = learner.get_down_times(times)\n",
    "intervals"
   ]
  },
  {
   "cell_type": "code",
   "execution_count": 14,
   "metadata": {},
   "outputs": [
    {
     "data": {
      "text/plain": [
       "array([6])"
      ]
     },
     "execution_count": 14,
     "metadata": {},
     "output_type": "execute_result"
    }
   ],
   "source": [
    "import numpy as np\n",
    "\n",
    "pauses = np.where(intervals)[0]\n",
    "pauses"
   ]
  },
  {
   "cell_type": "code",
   "execution_count": 15,
   "metadata": {},
   "outputs": [],
   "source": [
    "ups = [0] + (pauses+1).tolist()\n",
    "downs = (pauses+1).tolist() + [len(times)]"
   ]
  },
  {
   "cell_type": "code",
   "execution_count": 16,
   "metadata": {},
   "outputs": [
    {
     "data": {
      "text/plain": [
       "([0, 7], [7, 11])"
      ]
     },
     "execution_count": 16,
     "metadata": {},
     "output_type": "execute_result"
    }
   ],
   "source": [
    "ups, downs"
   ]
  },
  {
   "cell_type": "code",
   "execution_count": 17,
   "metadata": {},
   "outputs": [
    {
     "name": "stdout",
     "output_type": "stream",
     "text": [
      "[1516102183.4479513, 1516102191.210525, 1516102195.7154136, 1516102200.3172812, 1516102205.1525302, 1516102209.5608864, 1516102214.0425346]\n",
      "[1516104147.8266025, 1516104152.428377, 1516104156.7281446, 1516104160.1172004]\n"
     ]
    }
   ],
   "source": [
    "for start, end in zip(ups, downs):\n",
    "    print(times[start:end])"
   ]
  },
  {
   "cell_type": "code",
   "execution_count": 22,
   "metadata": {},
   "outputs": [
    {
     "data": {
      "text/plain": [
       "([(0, 7), (7, 11)],\n",
       " [(1516102183.4479513, 1516102214.0425346),\n",
       "  (1516104147.8266025, 1516104160.1172004)])"
      ]
     },
     "execution_count": 22,
     "metadata": {},
     "output_type": "execute_result"
    }
   ],
   "source": [
    "from controllers.tests.learner2 import Learner\n",
    "\n",
    "learner = Learner(username, cams)\n",
    "X, meta = learner.create_image_matrix(imdata)\n",
    "intervals = learner.calculate_segments(X, times)\n",
    "intervals"
   ]
  },
  {
   "cell_type": "code",
   "execution_count": 23,
   "metadata": {
    "collapsed": true
   },
   "outputs": [],
   "source": [
    "labels = {'activity': [(1516102215, 0)]}"
   ]
  },
  {
   "cell_type": "code",
   "execution_count": 24,
   "metadata": {},
   "outputs": [],
   "source": [
    "models, meta = learner.update_models(labels, start_time)"
   ]
  },
  {
   "cell_type": "code",
   "execution_count": 25,
   "metadata": {},
   "outputs": [
    {
     "data": {
      "text/plain": [
       "{'segment_times': [(1516102183.4479513, 1516102214.0425346),\n",
       "  (1516104147.8266025, 1516104160.1172004)],\n",
       " 'segments': [(0, 7), (7, 11)],\n",
       " 'times': [1516102183.4479513,\n",
       "  1516102191.210525,\n",
       "  1516102195.7154136,\n",
       "  1516102200.3172812,\n",
       "  1516102205.1525302,\n",
       "  1516102209.5608864,\n",
       "  1516102214.0425346,\n",
       "  1516104147.8266025,\n",
       "  1516104152.428377,\n",
       "  1516104156.7281446,\n",
       "  1516104160.1172004],\n",
       " 'train_labels': {'activity': {'augmented': array([-1, -1, -1, -1, -1, -1, -1, -1, -1, -1, -1], dtype=int32),\n",
       "   'indices': array([], dtype=int64),\n",
       "   'mapping': [],\n",
       "   'raw': array([-1, -1, -1, -1, -1, -1, -1, -1, -1, -1, -1], dtype=int32)}}}"
      ]
     },
     "execution_count": 25,
     "metadata": {},
     "output_type": "execute_result"
    }
   ],
   "source": [
    "meta.pop(\"meta\")\n",
    "meta.pop(\"matrix\")\n",
    "meta.pop(\"raw_data\")\n",
    "meta"
   ]
  },
  {
   "cell_type": "code",
   "execution_count": null,
   "metadata": {
    "collapsed": true
   },
   "outputs": [],
   "source": []
  }
 ],
 "metadata": {
  "kernelspec": {
   "display_name": "Python 3",
   "language": "python",
   "name": "python3"
  },
  "language_info": {
   "codemirror_mode": {
    "name": "ipython",
    "version": 3
   },
   "file_extension": ".py",
   "mimetype": "text/x-python",
   "name": "python",
   "nbconvert_exporter": "python",
   "pygments_lexer": "ipython3",
   "version": "3.6.1"
  }
 },
 "nbformat": 4,
 "nbformat_minor": 2
}
