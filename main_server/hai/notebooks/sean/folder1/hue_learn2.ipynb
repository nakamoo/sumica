{
 "cells": [
  {
   "cell_type": "code",
   "execution_count": 1,
   "metadata": {},
   "outputs": [],
   "source": [
    "import sys\n",
    "import os\n",
    "from matplotlib import pyplot as plt\n",
    "\n",
    "sys.path.append(\"..\")\n",
    "os.chdir(\"/home/sean/HAI/main_server/hai\")"
   ]
  },
  {
   "cell_type": "code",
   "execution_count": 2,
   "metadata": {},
   "outputs": [],
   "source": [
    "from controllers.learner.datasets import get_hue_dataset1, filter_tags"
   ]
  },
  {
   "cell_type": "code",
   "execution_count": 10,
   "metadata": {},
   "outputs": [
    {
     "name": "stdout",
     "output_type": "stream",
     "text": [
      "1505590923.8668342 1505593923.8668342\n",
      "1294 images\n",
      "187 hue data\n"
     ]
    }
   ],
   "source": [
    "import time\n",
    "start_time = 1505590923.8668342\n",
    "end_time = 1505593923.8668342\n",
    "print(start_time, end_time)\n",
    "\n",
    "dataX, dataY, tags, touch_classes, look_classes = get_hue_dataset1(\"sean\", start_time, end_time, 0, incl_touch=True, incl_look=False, incl_dist=True, incl_pose=False, incl_hand=False)\n",
    "#print(tags)"
   ]
  },
  {
   "cell_type": "code",
   "execution_count": 11,
   "metadata": {},
   "outputs": [
    {
     "name": "stdout",
     "output_type": "stream",
     "text": [
      "(155, 17) (155,)\n",
      "[1 1 1 1 1 1 1 1 1 1 1 1 1 1 1 1 1 1 1 1 1 1 1 1 1 1 1 1 1 1 1 1 0 0 0 0 0\n",
      " 0 0 0 0 0 0 0 0 0 0 0 0 0 0 0 0 0 0 0 0 0 0 0 0 0 0 0 0 0 0 0 0 0 0 0 0 0\n",
      " 0 0 0 0 0 0 0 0 0 0 0 0 0 0 0 0 0 0 0 0 0 0 0 0 0 0 0 0 0 0 0 0 0 0 0 0 0\n",
      " 0 2 2 2 2 2 2 2 2 2 2 2 2 2 2 2 2 2 2 2 2 2 2 2 2 2 2 2 2 2 2 2 2 2 2 2 2\n",
      " 2 2 2 2 2 2 2]\n"
     ]
    }
   ],
   "source": [
    "dataX, dataY, y_classes = filter_tags(dataX, tags)\n",
    "print(dataX.shape, dataY.shape)\n",
    "print(dataY)"
   ]
  },
  {
   "cell_type": "code",
   "execution_count": 15,
   "metadata": {},
   "outputs": [
    {
     "name": "stdout",
     "output_type": "stream",
     "text": [
      "(155, 17) (155,)\n"
     ]
    },
    {
     "data": {
      "text/plain": [
       "<matplotlib.image.AxesImage at 0x7f7c3c810e80>"
      ]
     },
     "execution_count": 15,
     "metadata": {},
     "output_type": "execute_result"
    },
    {
     "data": {
      "image/png": "[encoded data removed]",
      "text/plain": [
       "<matplotlib.figure.Figure at 0x7f7c82d1e898>"
      ]
     },
     "metadata": {},
     "output_type": "display_data"
    }
   ],
   "source": [
    "import matplotlib.pyplot as plt\n",
    "%matplotlib inline\n",
    "import numpy as np\n",
    "from sklearn.preprocessing import StandardScaler\n",
    "\n",
    "scaler = StandardScaler()\n",
    "scaler.fit(dataX)\n",
    "\n",
    "print(dataX.shape, dataY.shape)\n",
    "\n",
    "ylabels = [\"person\"] + [\"touch:\" + t for t in touch_classes]# + [\"look:\" + t for t in look_classes]\n",
    "plt.yticks(np.arange(len(ylabels)), ylabels)\n",
    "dataX_scaled = scaler.transform(dataX)\n",
    "plt.imshow(dataX_scaled.T, aspect=\"auto\")"
   ]
  },
  {
   "cell_type": "code",
   "execution_count": null,
   "metadata": {},
   "outputs": [],
   "source": []
  },
  {
   "cell_type": "code",
   "execution_count": 13,
   "metadata": {},
   "outputs": [
    {
     "name": "stdout",
     "output_type": "stream",
     "text": [
      "(155, 2) (155,)\n"
     ]
    },
    {
     "data": {
      "image/png": "[encoded data removed]",
      "text/plain": [
       "<matplotlib.figure.Figure at 0x7f7c94469160>"
      ]
     },
     "metadata": {},
     "output_type": "display_data"
    }
   ],
   "source": [
    "from sklearn.decomposition import PCA\n",
    "from sklearn.manifold import TSNE\n",
    "\n",
    "dataX_scaled = scaler.transform(dataX)\n",
    "pca = PCA(n_components=2)\n",
    "#tsne = TSNE(n_components=2, verbose=1, perplexity=500, n_iter=300)\n",
    "X_r = pca.fit_transform(dataX_scaled)\n",
    "\n",
    "colors = dataY\n",
    "print(X_r.shape, dataY.shape)\n",
    "plt.scatter(X_r[:,0], X_r[:,1], c=colors)\n",
    "plt.show()"
   ]
  },
  {
   "cell_type": "code",
   "execution_count": 14,
   "metadata": {},
   "outputs": [
    {
     "name": "stdout",
     "output_type": "stream",
     "text": [
      "[ 0.96875     0.96875     0.67741935  0.86666667  0.83333333] 0.862983870968 0.107424257143\n",
      "[ 0.96875     0.78125     0.67741935  0.86666667  0.83333333] 0.825483870968 0.0960859581065\n",
      "[ 0.96875     0.96875     0.67741935  0.86666667  0.83333333] 0.862983870968 0.107424257143\n",
      "[ 0.96875     0.96875     0.70967742  0.86666667  0.83333333] 0.869435483871 0.0964991368127\n",
      "[ 0.96875     0.96875     0.67741935  0.86666667  0.76666667] 0.849650537634 0.114200539129\n",
      "[[60 20  0]\n",
      " [ 0 32  0]\n",
      " [ 0  0 43]]\n",
      "['phone', 'nothing', 'laptop', 'noone']\n"
     ]
    }
   ],
   "source": [
    "from sklearn.model_selection import train_test_split\n",
    "from sklearn.model_selection import cross_val_score\n",
    "from sklearn.metrics import confusion_matrix\n",
    "\n",
    "np.random.seed(1984)\n",
    "shuffle_i = np.random.permutation(np.arange(len(dataX)))\n",
    "dataX_shuffled = dataX_scaled[shuffle_i]\n",
    "dataY_shuffled = dataY[shuffle_i]\n",
    "\n",
    "from sklearn import linear_model\n",
    "\n",
    "clf = linear_model.LogisticRegression(C=1e5)\n",
    "#logreg.fit(X_train, y_train)\n",
    "#print(logreg.score(X_test, y_test))\n",
    "scores = cross_val_score(clf, dataX_shuffled, dataY_shuffled, cv=5)\n",
    "print(scores, np.mean(scores), np.std(scores))\n",
    "\n",
    "from sklearn.ensemble import RandomForestClassifier\n",
    "clf = RandomForestClassifier(n_estimators=10)\n",
    "#clf = clf.fit(X_train, y_train)\n",
    "scores = cross_val_score(clf, dataX_shuffled, dataY_shuffled, cv=5)\n",
    "print(scores, np.mean(scores), np.std(scores))\n",
    "\n",
    "from sklearn import svm\n",
    "clf = svm.SVC()\n",
    "scores = cross_val_score(clf, dataX_shuffled, dataY_shuffled, cv=5)\n",
    "print(scores, np.mean(scores), np.std(scores))\n",
    "\n",
    "clf = svm.LinearSVC()\n",
    "scores = cross_val_score(clf, dataX_shuffled, dataY_shuffled, cv=5)\n",
    "print(scores, np.mean(scores), np.std(scores))\n",
    "\n",
    "from sklearn.neighbors import KNeighborsClassifier\n",
    "clf = KNeighborsClassifier()\n",
    "scores = cross_val_score(clf, dataX_shuffled, dataY_shuffled, cv=5)\n",
    "print(scores, np.mean(scores), np.std(scores))\n",
    "\n",
    "logreg = linear_model.LogisticRegression(C=1e5)\n",
    "logreg.fit(dataX_scaled, dataY)\n",
    "print(confusion_matrix(dataY, logreg.predict(dataX_scaled)))\n",
    "print(y_classes)"
   ]
  },
  {
   "cell_type": "code",
   "execution_count": null,
   "metadata": {},
   "outputs": [],
   "source": [
    "import pickle\n",
    "pickle.dump({\"classes\": y_classes, \"classifier\": logreg, \"preprocessor\": scaler}, open(\"classifier.pkl\", \"wb+\"))"
   ]
  },
  {
   "cell_type": "code",
   "execution_count": null,
   "metadata": {},
   "outputs": [],
   "source": [
    "start_time = 1505578728.1168005\n",
    "end_time = 1505581018.450838\n",
    "\n",
    "print(y_classes)\n",
    "testX, _, tags, _, _ = get_hue_dataset1(\"sean\", start_time, end_time, 0, incl_touch=True, incl_look=False, incl_dist=True, incl_pose=True, incl_hand=False)\n",
    "testX, testY, _ = filter_tags(testX, tags, y_classes)\n",
    "print(testX.shape, testY.shape)"
   ]
  },
  {
   "cell_type": "code",
   "execution_count": null,
   "metadata": {},
   "outputs": [],
   "source": [
    "testX_scaled = scaler.transform(testX)\n",
    "shuffle_i = np.random.permutation(np.arange(len(testX)))\n",
    "dataX_shuffled = testX_scaled[shuffle_i]\n",
    "dataY_shuffled = testY[shuffle_i]\n",
    "\n",
    "from sklearn import linear_model\n",
    "\n",
    "clf = linear_model.LogisticRegression(C=1e5)\n",
    "#logreg.fit(X_train, y_train)\n",
    "#print(logreg.score(X_test, y_test))\n",
    "scores = cross_val_score(clf, dataX_shuffled, dataY_shuffled, cv=5)\n",
    "print(scores, np.mean(scores), np.std(scores))\n",
    "#print(dataX_scaled.shape, dataY.shape, testX_scaled.shape, testY.shape)\n",
    "clf.fit(dataX_scaled, dataY)\n",
    "print(confusion_matrix(testY, clf.predict(testX_scaled)))\n",
    "print(y_classes)\n",
    "\n",
    "from sklearn.ensemble import RandomForestClassifier\n",
    "clf = RandomForestClassifier(n_estimators=20)\n",
    "#clf = clf.fit(X_train, y_train)\n",
    "scores = cross_val_score(clf, dataX_shuffled, dataY_shuffled, cv=5)\n",
    "print(scores, np.mean(scores), np.std(scores))\n",
    "\n",
    "from sklearn import svm\n",
    "clf = svm.SVC()\n",
    "scores = cross_val_score(clf, dataX_shuffled, dataY_shuffled, cv=5)\n",
    "print(scores, np.mean(scores), np.std(scores))\n",
    "\n",
    "clf = svm.LinearSVC()\n",
    "scores = cross_val_score(clf, dataX_shuffled, dataY_shuffled, cv=5)\n",
    "print(scores, np.mean(scores), np.std(scores))\n",
    "\n",
    "from sklearn.neighbors import KNeighborsClassifier\n",
    "clf = KNeighborsClassifier()\n",
    "scores = cross_val_score(clf, dataX_shuffled, dataY_shuffled, cv=5)\n",
    "print(scores, np.mean(scores), np.std(scores))"
   ]
  },
  {
   "cell_type": "code",
   "execution_count": null,
   "metadata": {
    "collapsed": true
   },
   "outputs": [],
   "source": []
  },
  {
   "cell_type": "code",
   "execution_count": null,
   "metadata": {
    "collapsed": true
   },
   "outputs": [],
   "source": []
  },
  {
   "cell_type": "code",
   "execution_count": null,
   "metadata": {
    "collapsed": true
   },
   "outputs": [],
   "source": []
  },
  {
   "cell_type": "code",
   "execution_count": null,
   "metadata": {
    "collapsed": true
   },
   "outputs": [],
   "source": []
  }
 ],
 "metadata": {
  "kernelspec": {
   "display_name": "Python 3",
   "language": "python",
   "name": "python3"
  },
  "language_info": {
   "codemirror_mode": {
    "name": "ipython",
    "version": 3
   },
   "file_extension": ".py",
   "mimetype": "text/x-python",
   "name": "python",
   "nbconvert_exporter": "python",
   "pygments_lexer": "ipython3",
   "version": "3.6.1"
  }
 },
 "nbformat": 4,
 "nbformat_minor": 2
}
