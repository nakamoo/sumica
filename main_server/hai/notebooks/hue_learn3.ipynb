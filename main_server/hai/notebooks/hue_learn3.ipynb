{
 "cells": [
  {
   "cell_type": "code",
   "execution_count": 1,
   "metadata": {
    "collapsed": true
   },
   "outputs": [],
   "source": [
    "import os\n",
    "import sys\n",
    "\n",
    "sys.path.append(\"..\")\n",
    "os.chdir(\"/home/sean/HAI/main_server/hai\")\n",
    "\n",
    "import controllers.learner.datasets as ds"
   ]
  },
  {
   "cell_type": "code",
   "execution_count": 2,
   "metadata": {
    "collapsed": true
   },
   "outputs": [],
   "source": [
    "import time\n",
    "from datetime import datetime, date\n",
    "import calendar\n",
    "\n",
    "start_time = calendar.timegm(date(2017, 10, 3).timetuple())\n",
    "end_time = calendar.timegm(date(2017, 10, 5).timetuple())\n",
    "username = \"sean\""
   ]
  },
  {
   "cell_type": "code",
   "execution_count": 25,
   "metadata": {
    "scrolled": true
   },
   "outputs": [],
   "source": [
    "x, y, classes, counts = ds.get_hue_dataset2(username, start_time, end_time, incl_pose=False, incl_feats=True)"
   ]
  },
  {
   "cell_type": "code",
   "execution_count": 26,
   "metadata": {},
   "outputs": [
    {
     "name": "stdout",
     "output_type": "stream",
     "text": [
      "((0.0, 0.0, 0.0, 0.0, 0.0, 0.0, 0.0, 0.0, 0.0, 0.0, 0.0, 0.0, 0.0, 0.0, 0.0), 41104)\n",
      "((1.0, 1.0, 15327.0, 121.0, 254.0, 1.0, 1.0, 15327.0, 121.0, 254.0, 0.0, 0.0, 0.0, 0.0, 0.0), 2233)\n",
      "((1.0, 1.0, 33862.0, 50.0, 209.0, 0.0, 0.0, 0.0, 0.0, 0.0, 0.0, 0.0, 0.0, 0.0, 0.0), 1400)\n",
      "((1.0, 1.0, 33862.0, 50.0, 254.0, 1.0, 1.0, 33862.0, 50.0, 254.0, 0.0, 0.0, 0.0, 0.0, 0.0), 385)\n",
      "((1.0, 1.0, 33862.0, 50.0, 42.0, 0.0, 0.0, 0.0, 0.0, 0.0, 0.0, 0.0, 0.0, 0.0, 0.0), 137)\n",
      "((1.0, 1.0, 33862.0, 50.0, 145.0, 0.0, 0.0, 0.0, 0.0, 0.0, 0.0, 0.0, 0.0, 0.0, 0.0), 103)\n",
      "((1.0, 1.0, 51422.0, 220.0, 1.0, 1.0, 1.0, 50993.0, 232.0, 119.0, 0.0, 0.0, 0.0, 0.0, 0.0), 24)\n",
      "((1.0, 1.0, 57871.0, 242.0, 254.0, 1.0, 1.0, 33862.0, 50.0, 1.0, 0.0, 0.0, 0.0, 0.0, 0.0), 14)\n",
      "((1.0, 1.0, 57871.0, 242.0, 41.0, 1.0, 1.0, 50993.0, 232.0, 103.0, 0.0, 0.0, 0.0, 0.0, 0.0), 13)\n",
      "((1.0, 1.0, 33862.0, 50.0, 42.0, 1.0, 1.0, 33862.0, 50.0, 1.0, 0.0, 0.0, 0.0, 0.0, 0.0), 11)\n",
      "[(0.0, 0.0, 0.0, 0.0, 0.0, 0.0, 0.0, 0.0, 0.0, 0.0, 0.0, 0.0, 0.0, 0.0, 0.0), (1.0, 1.0, 15327.0, 121.0, 254.0, 1.0, 1.0, 15327.0, 121.0, 254.0, 0.0, 0.0, 0.0, 0.0, 0.0), (1.0, 1.0, 33862.0, 50.0, 209.0, 0.0, 0.0, 0.0, 0.0, 0.0, 0.0, 0.0, 0.0, 0.0, 0.0), (1.0, 1.0, 33862.0, 50.0, 254.0, 1.0, 1.0, 33862.0, 50.0, 254.0, 0.0, 0.0, 0.0, 0.0, 0.0), (1.0, 1.0, 33862.0, 50.0, 42.0, 0.0, 0.0, 0.0, 0.0, 0.0, 0.0, 0.0, 0.0, 0.0, 0.0)] (45450, 513) (45450,)\n"
     ]
    }
   ],
   "source": [
    "import numpy as np\n",
    "\n",
    "x = np.array(x)\n",
    "y = np.array(y)\n",
    "\n",
    "for count in counts[:10]:\n",
    "    print(count)\n",
    "print(classes, x.shape, y.shape)"
   ]
  },
  {
   "cell_type": "code",
   "execution_count": 27,
   "metadata": {},
   "outputs": [
    {
     "name": "stdout",
     "output_type": "stream",
     "text": [
      "0 / 45450\n",
      "1000 / 45450\n",
      "2000 / 45450\n",
      "3000 / 45450\n",
      "4000 / 45450\n"
     ]
    },
    {
     "data": {
      "text/plain": [
       "<matplotlib.collections.PathCollection at 0x7f5bcb218320>"
      ]
     },
     "execution_count": 27,
     "metadata": {},
     "output_type": "execute_result"
    },
    {
     "data": {
      "image/png": "[encoded data removed]",
      "text/plain": [
       "<matplotlib.figure.Figure at 0x7f5c1e4df080>"
      ]
     },
     "metadata": {},
     "output_type": "display_data"
    }
   ],
   "source": [
    "import matplotlib.pyplot as plt\n",
    "from sklearn.decomposition import PCA    \n",
    "from sklearn.manifold import TSNE\n",
    "\n",
    "%matplotlib inline\n",
    "tsne = PCA(n_components=2)\n",
    "x_red = tsne.fit_transform(x[y != 0])\n",
    "\n",
    "import matplotlib\n",
    "colors = []\n",
    "\n",
    "for i, label in enumerate(y[y != 0]):\n",
    "    if i % 1000 == 0:\n",
    "        print(i, \"/\", len(y), flush=True)\n",
    "    \n",
    "    if label == len(classes):\n",
    "        hsb = [1.0, 0, 0]\n",
    "    else:\n",
    "        hue_class = classes[label]\n",
    "        #hsb = [hue_class[2]/65536.0, hue_class[3]/255.0, hue_class[4]/255.0]\n",
    "        hsb = [hue_class[7]/65536.0, hue_class[8]/255.0, hue_class[9]/255.0]\n",
    "    rgb = matplotlib.colors.hsv_to_rgb(hsb)\n",
    "    colors.append(rgb)\n",
    "\n",
    "plt.scatter(x_red[:,0][::-1], x_red[:,1][::-1], c=colors)"
   ]
  },
  {
   "cell_type": "code",
   "execution_count": null,
   "metadata": {
    "collapsed": true
   },
   "outputs": [],
   "source": []
  },
  {
   "cell_type": "code",
   "execution_count": 28,
   "metadata": {},
   "outputs": [],
   "source": [
    "from sklearn.model_selection import train_test_split\n",
    "from sklearn.model_selection import cross_val_score\n",
    "from sklearn.metrics import confusion_matrix\n",
    "from sklearn import linear_model\n",
    "from sklearn.preprocessing import StandardScaler\n",
    "\n",
    "scaler = StandardScaler()\n",
    "\n",
    "np.random.seed(1984)\n",
    "#shuffle_i = np.random.permutation(np.arange(len(x)))\n",
    "\n",
    "N = len(x)\n",
    "train_x, test_x = x[:N//2], x[N//2:]\n",
    "train_x = scaler.fit_transform(train_x)\n",
    "test_x = scaler.transform(test_x)\n",
    "train_y, test_y = y[:N//2], y[N//2:]"
   ]
  },
  {
   "cell_type": "code",
   "execution_count": 36,
   "metadata": {},
   "outputs": [
    {
     "name": "stdout",
     "output_type": "stream",
     "text": [
      "random forest\n",
      "time: 2.886857032775879\n",
      "0.999075907591\n",
      "0.925104510451\n"
     ]
    },
    {
     "data": {
      "text/plain": [
       "'\\nfrom sklearn.neural_network import MLPClassifier\\nclf = MLPClassifier(hidden_layer_sizes=(10,))\\nprint(\"neural\")\\nfit(clf)\\n\\nfrom sklearn import svm\\nclf = svm.SVC()\\nprint(\"svm\")\\nfit(clf)\\n\\nclf = svm.LinearSVC()\\nprint(\"linear svm\")\\nfit(clf)\\n'"
      ]
     },
     "execution_count": 36,
     "metadata": {},
     "output_type": "execute_result"
    }
   ],
   "source": [
    "def fit(clf):\n",
    "    t = time.time()\n",
    "    clf.fit(train_x, train_y)\n",
    "    print(\"time:\", time.time()-t)\n",
    "    print(clf.score(train_x, train_y))\n",
    "    print(clf.score(test_x, test_y))\n",
    "    \n",
    "from sklearn.ensemble import RandomForestClassifier\n",
    "clf = RandomForestClassifier(n_estimators=10, class_weight=\"balanced\")\n",
    "print(\"random forest\")\n",
    "fit(clf)\n",
    "\n",
    "\"\"\"\n",
    "from sklearn.neural_network import MLPClassifier\n",
    "clf = MLPClassifier(hidden_layer_sizes=(10,))\n",
    "print(\"neural\")\n",
    "fit(clf)\n",
    "\n",
    "from sklearn import svm\n",
    "clf = svm.SVC()\n",
    "print(\"svm\")\n",
    "fit(clf)\n",
    "\n",
    "clf = svm.LinearSVC()\n",
    "print(\"linear svm\")\n",
    "fit(clf)\n",
    "\"\"\""
   ]
  },
  {
   "cell_type": "code",
   "execution_count": 18,
   "metadata": {},
   "outputs": [
    {
     "name": "stdout",
     "output_type": "stream",
     "text": [
      "neural\n",
      "time: 8.197562217712402\n",
      "0.996699669967\n",
      "0.907326732673\n"
     ]
    }
   ],
   "source": [
    "clf = MLPClassifier(hidden_layer_sizes=(50,))\n",
    "print(\"neural\")\n",
    "fit(clf)"
   ]
  },
  {
   "cell_type": "code",
   "execution_count": 37,
   "metadata": {},
   "outputs": [
    {
     "name": "stdout",
     "output_type": "stream",
     "text": [
      "[[19834     0     0     0     0]\n",
      " [    2  2231     0     0     0]\n",
      " [    1     1   328     0     0]\n",
      " [    6     0     0   131     0]\n",
      " [   11     0     0     0   180]]\n",
      "[[21023   247     0     0]\n",
      " [    0     0     0     0]\n",
      " [ 1385    14     0     1]\n",
      " [   55     0     0     0]]\n"
     ]
    }
   ],
   "source": [
    "from sklearn.metrics import confusion_matrix\n",
    "print(confusion_matrix(train_y, clf.predict(train_x)))\n",
    "print(confusion_matrix(test_y, clf.predict(test_x)))"
   ]
  },
  {
   "cell_type": "code",
   "execution_count": 33,
   "metadata": {},
   "outputs": [
    {
     "name": "stdout",
     "output_type": "stream",
     "text": [
      "[[19834     0     0     0     0]\n",
      " [    3  2230     0     0     0]\n",
      " [    1     0   329     0     0]\n",
      " [   10     0     0   127     0]\n",
      " [   12     0     0     0   179]]\n",
      "[[21186    84     0     0]\n",
      " [    0     0     0     0]\n",
      " [ 1380    20     0     0]\n",
      " [   53     0     0     2]]\n"
     ]
    }
   ],
   "source": [
    "from sklearn.metrics import confusion_matrix\n",
    "print(confusion_matrix(train_y, clf.predict(train_x)))\n",
    "print(confusion_matrix(test_y, clf.predict(test_x)))"
   ]
  },
  {
   "cell_type": "code",
   "execution_count": 38,
   "metadata": {
    "collapsed": true
   },
   "outputs": [],
   "source": [
    "import pickle\n",
    "pickle.dump({\"classes\": classes, \"classifier\": clf, \"preprocessor\": scaler}, open(\"classifier.pkl\", \"wb+\"))"
   ]
  },
  {
   "cell_type": "code",
   "execution_count": null,
   "metadata": {},
   "outputs": [],
   "source": [
    "print(classes)"
   ]
  },
  {
   "cell_type": "code",
   "execution_count": null,
   "metadata": {
    "collapsed": true
   },
   "outputs": [],
   "source": []
  },
  {
   "cell_type": "code",
   "execution_count": null,
   "metadata": {
    "collapsed": true
   },
   "outputs": [],
   "source": []
  }
 ],
 "metadata": {
  "kernelspec": {
   "display_name": "Python 3",
   "language": "python",
   "name": "python3"
  },
  "language_info": {
   "codemirror_mode": {
    "name": "ipython",
    "version": 3
   },
   "file_extension": ".py",
   "mimetype": "text/x-python",
   "name": "python",
   "nbconvert_exporter": "python",
   "pygments_lexer": "ipython3",
   "version": "3.6.1"
  }
 },
 "nbformat": 4,
 "nbformat_minor": 2
}
