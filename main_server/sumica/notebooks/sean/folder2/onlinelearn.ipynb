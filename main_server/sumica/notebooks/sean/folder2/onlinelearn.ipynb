{
 "cells": [
  {
   "cell_type": "code",
   "execution_count": 1,
   "metadata": {
    "collapsed": true
   },
   "outputs": [],
   "source": [
    "import os\n",
    "import sys\n",
    "\n",
    "sys.path.append(\"..\")\n",
    "os.chdir(\"/home/sean/HAI/main_server/hai\")"
   ]
  },
  {
   "cell_type": "code",
   "execution_count": 2,
   "metadata": {},
   "outputs": [],
   "source": [
    "%load_ext autoreload\n",
    "%autoreload 2\n",
    "from controllers.tests.learner import Learner\n",
    "import time"
   ]
  },
  {
   "cell_type": "code",
   "execution_count": 3,
   "metadata": {},
   "outputs": [
    {
     "name": "stdout",
     "output_type": "stream",
     "text": [
      "1515275700\n"
     ]
    }
   ],
   "source": [
    "start_time = 1515275700#1515246244-3600#time.time()-3600*1.5\n",
    "print(start_time)"
   ]
  },
  {
   "cell_type": "code",
   "execution_count": 27,
   "metadata": {},
   "outputs": [],
   "source": [
    "from controllers.tests.learner2 import Learner\n",
    "\n",
    "cams = [\"webcam0\", \"webcam1\"]\n",
    "learner = Learner()"
   ]
  },
  {
   "cell_type": "code",
   "execution_count": 41,
   "metadata": {},
   "outputs": [],
   "source": [
    "from controllers.tests.test0106 import get_hue_label\n",
    "from controllers.youtubeplayer import get_youtube_label\n",
    "from controllers.irkit import get_tv_label\n",
    "from sklearn.preprocessing import StandardScaler\n",
    "from controllers.dbreader.imagereader import ImageReader\n",
    "\n",
    "import matplotlib.pyplot as plt\n",
    "%matplotlib inline"
   ]
  },
  {
   "cell_type": "code",
   "execution_count": null,
   "metadata": {
    "collapsed": true
   },
   "outputs": [],
   "source": [
    "end_time = start_time + 3600\n",
    "imreader = ImageReader()\n",
    "imdata, times = imreader.read_db(\"koki\", start_time, end_time, cams, skip_absent=False, filtered=False)"
   ]
  },
  {
   "cell_type": "code",
   "execution_count": 34,
   "metadata": {},
   "outputs": [
    {
     "data": {
      "text/plain": [
       "860"
      ]
     },
     "execution_count": 34,
     "metadata": {},
     "output_type": "execute_result"
    }
   ],
   "source": [
    "len(imdata)"
   ]
  },
  {
   "cell_type": "code",
   "execution_count": 87,
   "metadata": {
    "scrolled": false
   },
   "outputs": [
    {
     "name": "stdout",
     "output_type": "stream",
     "text": [
      "[]\n",
      "---\n",
      "[]\n",
      "---\n",
      "[]\n",
      "---\n",
      "[]\n",
      "---\n",
      "[]\n",
      "---\n",
      "[]\n",
      "---\n",
      "[]\n",
      "---\n",
      "[]\n",
      "---\n",
      "[]\n",
      "---\n",
      "[82]\n",
      "白色 [70, 91] 63\n",
      "---\n",
      "[82]\n",
      "白色 [71, 84] 63\n",
      "---\n",
      "[82]\n",
      "白色 [72, 83] 110\n",
      "---\n",
      "[82]\n",
      "白色 [71, 84] 110\n",
      "---\n",
      "[82]\n",
      "白色 [71, 83] 128\n",
      "---\n",
      "[82]\n",
      "白色 [70, 84] 128\n",
      "---\n",
      "[82]\n",
      "白色 [70, 84] 146\n",
      "---\n",
      "[ 82 158]\n",
      "白色 [70, 85] 146\n",
      "オフ [125, 161] 128\n",
      "---\n",
      "[ 82 158]\n",
      "白色 [71, 85] 146\n",
      "オフ [157, 171] 128\n",
      "---\n",
      "[ 82 158]\n",
      "白色 [72, 84] 146\n",
      "オフ [126, 158] 131\n",
      "---\n",
      "[ 82 158]\n",
      "白色 [71, 83] 146\n",
      "オフ [125, 158] 110\n",
      "---\n",
      "warning: overwriting segment w/ label 0 (1) to 2 (1)\n",
      "[ 82 158 201]\n",
      "オフ [156, 201] 128\n",
      "電球色 [156, 201] 128\n",
      "---\n",
      "[ 82 158 201]\n",
      "白色 [71, 84] 200\n",
      "オフ [142, 158] 131\n",
      "電球色 [200, 211] 199\n",
      "---\n",
      "[ 82 158 201]\n",
      "白色 [71, 85] 200\n",
      "オフ [126, 158] 200\n",
      "電球色 [200, 221] 199\n",
      "---\n",
      "[ 82 158 201]\n",
      "白色 [71, 84] 200\n",
      "オフ [142, 158] 131\n",
      "電球色 [200, 231] 199\n",
      "---\n",
      "[ 82 158 201 240]\n",
      "白色 [71, 84] 200\n",
      "オフ [157, 200] 128\n",
      "電球色 [200, 241] 199\n",
      "白色 [200, 241] 199\n",
      "---\n",
      "[ 82 158 201 240]\n",
      "白色 [71, 83] 200\n",
      "オフ [125, 158] 200\n",
      "電球色 [158, 201] 128\n",
      "白色 [201, 251] 199\n",
      "---\n",
      "[ 82 158 201 240]\n",
      "白色 [71, 83] 200\n",
      "オフ [125, 158] 200\n",
      "電球色 [158, 201] 128\n",
      "白色 [201, 261] 199\n",
      "---\n",
      "[ 82 158 201 240]\n",
      "白色 [71, 84] 200\n",
      "オフ [126, 158] 200\n",
      "電球色 [200, 271] 199\n",
      "白色 [200, 271] 199\n",
      "---\n",
      "warning: overwriting segment w/ label 0 (1) to 2 (1)\n",
      "[ 82 158 201 240]\n",
      "オフ [157, 201] 128\n",
      "電球色 [157, 201] 128\n",
      "白色 [201, 281] 199\n",
      "---\n",
      "[ 82 158 201 240]\n",
      "白色 [72, 83] 200\n",
      "オフ [126, 158] 200\n",
      "電球色 [158, 201] 128\n",
      "白色 [201, 291] 199\n",
      "---\n",
      "warning: overwriting segment w/ label 0 (1) to 2 (1)\n",
      "[ 82 158 201 240]\n",
      "オフ [156, 201] 128\n",
      "電球色 [156, 201] 128\n",
      "白色 [220, 301] 199\n",
      "---\n",
      "warning: overwriting segment w/ label 1 (2) to 2 (2)\n",
      "[ 82 158 201 240 306]\n",
      "白色 [72, 83] 200\n",
      "電球色 [200, 308] 199\n",
      "白色 [200, 308] 199\n",
      "電球色 [200, 308] 199\n",
      "---\n",
      "warning: overwriting segment w/ label 1 (2) to 2 (2)\n",
      "[ 82 158 201 240 306]\n",
      "白色 [70, 85] 200\n",
      "電球色 [200, 307] 199\n",
      "白色 [200, 307] 199\n",
      "電球色 [200, 307] 199\n",
      "---\n",
      "warning: overwriting segment w/ label 1 (2) to 2 (2)\n",
      "[ 82 158 201 240 306]\n",
      "白色 [71, 84] 200\n",
      "電球色 [200, 221] 321\n",
      "白色 [221, 307] 321\n",
      "電球色 [221, 307] 321\n",
      "---\n",
      "warning: overwriting segment w/ label 1 (2) to 2 (2)\n",
      "[ 82 158 201 240 306]\n",
      "白色 [71, 85] 340\n",
      "電球色 [156, 201] 128\n",
      "白色 [201, 308] 340\n",
      "電球色 [201, 308] 340\n",
      "---\n",
      "warning: overwriting segment w/ label 1 (2) to 2 (2)\n",
      "[ 82 158 201 240 306]\n",
      "白色 [70, 84] 340\n",
      "電球色 [158, 202] 128\n",
      "白色 [202, 307] 340\n",
      "電球色 [202, 307] 340\n",
      "---\n",
      "warning: overwriting segment w/ label 1 (2) to 2 (2)\n",
      "[ 82 158 201 240 306]\n",
      "白色 [72, 84] 340\n",
      "電球色 [157, 202] 128\n",
      "白色 [202, 306] 340\n",
      "電球色 [202, 306] 340\n",
      "---\n",
      "warning: overwriting segment w/ label 1 (2) to 2 (2)\n",
      "[ 82 158 201 240 306]\n",
      "白色 [71, 83] 340\n",
      "電球色 [158, 202] 128\n",
      "白色 [202, 306] 340\n",
      "電球色 [202, 306] 340\n",
      "---\n",
      "warning: overwriting segment w/ label 1 (2) to 2 (2)\n",
      "[ 82 158 201 240 306]\n",
      "白色 [71, 83] 340\n",
      "電球色 [157, 201] 128\n",
      "白色 [201, 306] 340\n",
      "電球色 [201, 306] 340\n",
      "---\n",
      "warning: overwriting segment w/ label 1 (3) to 2 (2)\n",
      "[ 82 158 201 240 306 389]\n",
      "白色 [72, 84] 340\n",
      "電球色 [158, 201] 128\n",
      "白色 [201, 308] 340\n",
      "電球色 [201, 308] 340\n",
      "白色 [320, 391] 131\n",
      "---\n",
      "warning: overwriting segment w/ label 1 (3) to 2 (2)\n",
      "[ 82 158 201 240 306 389]\n",
      "白色 [71, 84] 340\n",
      "電球色 [200, 306] 340\n",
      "白色 [200, 306] 340\n",
      "電球色 [200, 306] 340\n",
      "白色 [386, 401] 340\n",
      "---\n",
      "warning: overwriting segment w/ label 1 (3) to 2 (2)\n",
      "[ 82 158 201 240 306 389]\n",
      "白色 [72, 85] 340\n",
      "電球色 [156, 201] 128\n",
      "白色 [201, 308] 340\n",
      "電球色 [201, 308] 340\n",
      "白色 [385, 411] 340\n",
      "---\n",
      "warning: overwriting segment w/ label 1 (3) to 2 (2)\n",
      "[ 82 158 201 240 306 389]\n",
      "白色 [71, 84] 340\n",
      "電球色 [157, 201] 128\n",
      "白色 [201, 308] 340\n",
      "電球色 [201, 308] 340\n",
      "白色 [387, 421] 340\n",
      "---\n",
      "warning: overwriting segment w/ label 1 (3) to 2 (2)\n",
      "[ 82 158 201 240 306 389]\n",
      "白色 [71, 83] 340\n",
      "電球色 [157, 201] 128\n",
      "白色 [201, 307] 340\n",
      "電球色 [201, 307] 340\n",
      "白色 [386, 431] 340\n",
      "---\n",
      "warning: overwriting segment w/ label 1 (3) to 2 (2)\n",
      "[ 82 158 201 240 306 389]\n",
      "白色 [71, 85] 340\n",
      "電球色 [158, 202] 128\n",
      "白色 [202, 307] 340\n",
      "電球色 [202, 307] 340\n",
      "白色 [385, 441] 336\n",
      "---\n",
      "warning: overwriting segment w/ label 1 (3) to 2 (2)\n",
      "[ 82 158 201 240 306 389]\n",
      "白色 [70, 84] 340\n",
      "電球色 [157, 201] 128\n",
      "白色 [201, 307] 340\n",
      "電球色 [201, 307] 340\n",
      "白色 [385, 451] 336\n",
      "---\n",
      "warning: overwriting segment w/ label 1 (3) to 2 (2)\n",
      "[ 82 158 201 240 306 389]\n",
      "白色 [71, 84] 340\n",
      "電球色 [157, 201] 128\n",
      "白色 [201, 308] 340\n",
      "電球色 [201, 308] 340\n",
      "白色 [386, 461] 340\n",
      "---\n"
     ]
    },
    {
     "ename": "KeyboardInterrupt",
     "evalue": "",
     "output_type": "error",
     "traceback": [
      "\u001b[0;31m---------------------------------------------------------------------------\u001b[0m",
      "\u001b[0;31mKeyboardInterrupt\u001b[0m                         Traceback (most recent call last)",
      "\u001b[0;32m<ipython-input-87-77a469fd79a9>\u001b[0m in \u001b[0;36m<module>\u001b[0;34m()\u001b[0m\n\u001b[1;32m      3\u001b[0m \u001b[0;32mfor\u001b[0m \u001b[0mi\u001b[0m \u001b[0;32min\u001b[0m \u001b[0mrange\u001b[0m\u001b[0;34m(\u001b[0m\u001b[0;36m1\u001b[0m\u001b[0;34m,\u001b[0m \u001b[0;36m1000\u001b[0m\u001b[0;34m,\u001b[0m \u001b[0;36m10\u001b[0m\u001b[0;34m)\u001b[0m\u001b[0;34m:\u001b[0m\u001b[0;31m#len(imdata)):\u001b[0m\u001b[0;34m\u001b[0m\u001b[0m\n\u001b[1;32m      4\u001b[0m     \u001b[0mlabel_data\u001b[0m\u001b[0;34m,\u001b[0m \u001b[0mclass_names\u001b[0m \u001b[0;34m=\u001b[0m \u001b[0mget_hue_label\u001b[0m\u001b[0;34m(\u001b[0m\u001b[0mstart_time\u001b[0m\u001b[0;34m,\u001b[0m \u001b[0mtimes\u001b[0m\u001b[0;34m[\u001b[0m\u001b[0mi\u001b[0m\u001b[0;34m]\u001b[0m\u001b[0;34m)\u001b[0m\u001b[0;34m\u001b[0m\u001b[0m\n\u001b[0;32m----> 5\u001b[0;31m     \u001b[0mmodels\u001b[0m\u001b[0;34m,\u001b[0m \u001b[0mmisc\u001b[0m \u001b[0;34m=\u001b[0m \u001b[0mlearner\u001b[0m\u001b[0;34m.\u001b[0m\u001b[0mupdate_models\u001b[0m\u001b[0;34m(\u001b[0m\u001b[0mimdata\u001b[0m\u001b[0;34m[\u001b[0m\u001b[0;34m:\u001b[0m\u001b[0mi\u001b[0m\u001b[0;34m]\u001b[0m\u001b[0;34m,\u001b[0m \u001b[0mtimes\u001b[0m\u001b[0;34m[\u001b[0m\u001b[0;34m:\u001b[0m\u001b[0mi\u001b[0m\u001b[0;34m]\u001b[0m\u001b[0;34m,\u001b[0m \u001b[0mlabel_data\u001b[0m\u001b[0;34m)\u001b[0m\u001b[0;34m\u001b[0m\u001b[0m\n\u001b[0m\u001b[1;32m      6\u001b[0m \u001b[0;34m\u001b[0m\u001b[0m\n\u001b[1;32m      7\u001b[0m     \u001b[0mX\u001b[0m \u001b[0;34m=\u001b[0m \u001b[0mmisc\u001b[0m\u001b[0;34m[\u001b[0m\u001b[0;34m'matrix'\u001b[0m\u001b[0;34m]\u001b[0m\u001b[0;34m\u001b[0m\u001b[0m\n",
      "\u001b[0;32m/home/sean/HAI/main_server/hai/controllers/tests/learner2.py\u001b[0m in \u001b[0;36mupdate_models\u001b[0;34m(self, imdata, times, labels)\u001b[0m\n\u001b[1;32m     98\u001b[0m     \u001b[0;32mdef\u001b[0m \u001b[0mupdate_models\u001b[0m\u001b[0;34m(\u001b[0m\u001b[0mself\u001b[0m\u001b[0;34m,\u001b[0m \u001b[0mimdata\u001b[0m\u001b[0;34m,\u001b[0m \u001b[0mtimes\u001b[0m\u001b[0;34m,\u001b[0m \u001b[0mlabels\u001b[0m\u001b[0;34m)\u001b[0m\u001b[0;34m:\u001b[0m\u001b[0;34m\u001b[0m\u001b[0m\n\u001b[1;32m     99\u001b[0m         \u001b[0mX\u001b[0m\u001b[0;34m,\u001b[0m \u001b[0mmeta\u001b[0m \u001b[0;34m=\u001b[0m \u001b[0mself\u001b[0m\u001b[0;34m.\u001b[0m\u001b[0mcreate_image_matrix\u001b[0m\u001b[0;34m(\u001b[0m\u001b[0mimdata\u001b[0m\u001b[0;34m)\u001b[0m\u001b[0;34m\u001b[0m\u001b[0m\n\u001b[0;32m--> 100\u001b[0;31m         \u001b[0mbreaks\u001b[0m \u001b[0;34m=\u001b[0m \u001b[0mself\u001b[0m\u001b[0;34m.\u001b[0m\u001b[0mcalculate_breakpoints\u001b[0m\u001b[0;34m(\u001b[0m\u001b[0mX\u001b[0m\u001b[0;34m)\u001b[0m\u001b[0;34m\u001b[0m\u001b[0m\n\u001b[0m\u001b[1;32m    101\u001b[0m         \u001b[0mtrain_labels\u001b[0m \u001b[0;34m=\u001b[0m \u001b[0;34m{\u001b[0m\u001b[0;34m}\u001b[0m\u001b[0;34m\u001b[0m\u001b[0m\n\u001b[1;32m    102\u001b[0m         \u001b[0mmode_breaks\u001b[0m \u001b[0;34m=\u001b[0m \u001b[0;34m{\u001b[0m\u001b[0;34m}\u001b[0m\u001b[0;34m\u001b[0m\u001b[0m\n",
      "\u001b[0;32m/home/sean/HAI/main_server/hai/controllers/tests/learner2.py\u001b[0m in \u001b[0;36mcalculate_breakpoints\u001b[0;34m(self, X)\u001b[0m\n\u001b[1;32m     92\u001b[0m         \u001b[0mmodel\u001b[0m \u001b[0;34m=\u001b[0m \u001b[0;34m\"l1\"\u001b[0m  \u001b[0;31m# \"l2\", \"rbf\"\u001b[0m\u001b[0;34m\u001b[0m\u001b[0m\n\u001b[1;32m     93\u001b[0m         \u001b[0malgo\u001b[0m \u001b[0;34m=\u001b[0m \u001b[0mrpt\u001b[0m\u001b[0;34m.\u001b[0m\u001b[0mBottomUp\u001b[0m\u001b[0;34m(\u001b[0m\u001b[0mmodel\u001b[0m\u001b[0;34m=\u001b[0m\u001b[0mmodel\u001b[0m\u001b[0;34m,\u001b[0m \u001b[0mmin_size\u001b[0m\u001b[0;34m=\u001b[0m\u001b[0;36m1\u001b[0m\u001b[0;34m,\u001b[0m \u001b[0mjump\u001b[0m\u001b[0;34m=\u001b[0m\u001b[0;36m1\u001b[0m\u001b[0;34m)\u001b[0m\u001b[0;34m.\u001b[0m\u001b[0mfit\u001b[0m\u001b[0;34m(\u001b[0m\u001b[0mX\u001b[0m\u001b[0;34m)\u001b[0m\u001b[0;34m\u001b[0m\u001b[0m\n\u001b[0;32m---> 94\u001b[0;31m         \u001b[0mbreaks\u001b[0m \u001b[0;34m=\u001b[0m \u001b[0malgo\u001b[0m\u001b[0;34m.\u001b[0m\u001b[0mpredict\u001b[0m\u001b[0;34m(\u001b[0m\u001b[0mpen\u001b[0m\u001b[0;34m=\u001b[0m\u001b[0mnp\u001b[0m\u001b[0;34m.\u001b[0m\u001b[0mlog\u001b[0m\u001b[0;34m(\u001b[0m\u001b[0mX\u001b[0m\u001b[0;34m.\u001b[0m\u001b[0mshape\u001b[0m\u001b[0;34m[\u001b[0m\u001b[0;36m0\u001b[0m\u001b[0;34m]\u001b[0m\u001b[0;34m)\u001b[0m\u001b[0;34m*\u001b[0m\u001b[0mX\u001b[0m\u001b[0;34m.\u001b[0m\u001b[0mshape\u001b[0m\u001b[0;34m[\u001b[0m\u001b[0;36m1\u001b[0m\u001b[0;34m]\u001b[0m\u001b[0;34m*\u001b[0m\u001b[0;36m2\u001b[0m\u001b[0;34m**\u001b[0m\u001b[0;36m2\u001b[0m\u001b[0;34m)\u001b[0m\u001b[0;34m\u001b[0m\u001b[0m\n\u001b[0m\u001b[1;32m     95\u001b[0m \u001b[0;34m\u001b[0m\u001b[0m\n\u001b[1;32m     96\u001b[0m         \u001b[0;32mreturn\u001b[0m \u001b[0mbreaks\u001b[0m\u001b[0;34m\u001b[0m\u001b[0m\n",
      "\u001b[0;32m/home/sean/.pyenv/versions/anaconda3-4.4.0/lib/python3.6/site-packages/ruptures/detection/bottomup.py\u001b[0m in \u001b[0;36mpredict\u001b[0;34m(self, n_bkps, pen, epsilon)\u001b[0m\n\u001b[1;32m    255\u001b[0m         \u001b[0;32massert\u001b[0m \u001b[0many\u001b[0m\u001b[0;34m(\u001b[0m\u001b[0mparam\u001b[0m \u001b[0;32mis\u001b[0m \u001b[0;32mnot\u001b[0m \u001b[0;32mNone\u001b[0m \u001b[0;32mfor\u001b[0m \u001b[0mparam\u001b[0m \u001b[0;32min\u001b[0m \u001b[0;34m(\u001b[0m\u001b[0mn_bkps\u001b[0m\u001b[0;34m,\u001b[0m \u001b[0mpen\u001b[0m\u001b[0;34m,\u001b[0m \u001b[0mepsilon\u001b[0m\u001b[0;34m)\u001b[0m\u001b[0;34m)\u001b[0m\u001b[0;34m,\u001b[0m \u001b[0mmsg\u001b[0m\u001b[0;34m\u001b[0m\u001b[0m\n\u001b[1;32m    256\u001b[0m \u001b[0;34m\u001b[0m\u001b[0m\n\u001b[0;32m--> 257\u001b[0;31m         \u001b[0mpartition\u001b[0m \u001b[0;34m=\u001b[0m \u001b[0mself\u001b[0m\u001b[0;34m.\u001b[0m\u001b[0m_seg\u001b[0m\u001b[0;34m(\u001b[0m\u001b[0mn_bkps\u001b[0m\u001b[0;34m=\u001b[0m\u001b[0mn_bkps\u001b[0m\u001b[0;34m,\u001b[0m \u001b[0mpen\u001b[0m\u001b[0;34m=\u001b[0m\u001b[0mpen\u001b[0m\u001b[0;34m,\u001b[0m \u001b[0mepsilon\u001b[0m\u001b[0;34m=\u001b[0m\u001b[0mepsilon\u001b[0m\u001b[0;34m)\u001b[0m\u001b[0;34m\u001b[0m\u001b[0m\n\u001b[0m\u001b[1;32m    258\u001b[0m         \u001b[0mbkps\u001b[0m \u001b[0;34m=\u001b[0m \u001b[0msorted\u001b[0m\u001b[0;34m(\u001b[0m\u001b[0me\u001b[0m \u001b[0;32mfor\u001b[0m \u001b[0ms\u001b[0m\u001b[0;34m,\u001b[0m \u001b[0me\u001b[0m \u001b[0;32min\u001b[0m \u001b[0mpartition\u001b[0m\u001b[0;34m.\u001b[0m\u001b[0mkeys\u001b[0m\u001b[0;34m(\u001b[0m\u001b[0;34m)\u001b[0m\u001b[0;34m)\u001b[0m\u001b[0;34m\u001b[0m\u001b[0m\n\u001b[1;32m    259\u001b[0m         \u001b[0;32mreturn\u001b[0m \u001b[0mbkps\u001b[0m\u001b[0;34m\u001b[0m\u001b[0m\n",
      "\u001b[0;32m/home/sean/.pyenv/versions/anaconda3-4.4.0/lib/python3.6/site-packages/ruptures/detection/bottomup.py\u001b[0m in \u001b[0;36m_seg\u001b[0;34m(self, n_bkps, pen, epsilon)\u001b[0m\n\u001b[1;32m    195\u001b[0m             \u001b[0;31m# find segment to merge\u001b[0m\u001b[0;34m\u001b[0m\u001b[0;34m\u001b[0m\u001b[0m\n\u001b[1;32m    196\u001b[0m             \u001b[0;32mtry\u001b[0m\u001b[0;34m:\u001b[0m\u001b[0;34m\u001b[0m\u001b[0m\n\u001b[0;32m--> 197\u001b[0;31m                 \u001b[0mleaf\u001b[0m \u001b[0;34m=\u001b[0m \u001b[0mmin\u001b[0m\u001b[0;34m(\u001b[0m\u001b[0mmerged\u001b[0m\u001b[0;34m,\u001b[0m \u001b[0mkey\u001b[0m\u001b[0;34m=\u001b[0m\u001b[0;32mlambda\u001b[0m \u001b[0mn\u001b[0m\u001b[0;34m:\u001b[0m \u001b[0mn\u001b[0m\u001b[0;34m.\u001b[0m\u001b[0mgain\u001b[0m\u001b[0;34m)\u001b[0m\u001b[0;34m\u001b[0m\u001b[0m\n\u001b[0m\u001b[1;32m    198\u001b[0m             \u001b[0;32mexcept\u001b[0m \u001b[0mValueError\u001b[0m\u001b[0;34m:\u001b[0m  \u001b[0;31m# if merged is empty (all nodes have been merged).\u001b[0m\u001b[0;34m\u001b[0m\u001b[0m\n\u001b[1;32m    199\u001b[0m                 \u001b[0;32mbreak\u001b[0m\u001b[0;34m\u001b[0m\u001b[0m\n",
      "\u001b[0;32m/home/sean/.pyenv/versions/anaconda3-4.4.0/lib/python3.6/site-packages/ruptures/detection/bottomup.py\u001b[0m in \u001b[0;36m<genexpr>\u001b[0;34m(.0)\u001b[0m\n\u001b[1;32m    192\u001b[0m             \u001b[0mleaves\u001b[0m\u001b[0;34m.\u001b[0m\u001b[0msort\u001b[0m\u001b[0;34m(\u001b[0m\u001b[0mkey\u001b[0m\u001b[0;34m=\u001b[0m\u001b[0;32mlambda\u001b[0m \u001b[0mn\u001b[0m\u001b[0;34m:\u001b[0m \u001b[0mn\u001b[0m\u001b[0;34m.\u001b[0m\u001b[0mstart\u001b[0m\u001b[0;34m)\u001b[0m\u001b[0;34m\u001b[0m\u001b[0m\n\u001b[1;32m    193\u001b[0m             merged = (self.merge(left, right)\n\u001b[0;32m--> 194\u001b[0;31m                       for left, right in pairwise(leaves))\n\u001b[0m\u001b[1;32m    195\u001b[0m             \u001b[0;31m# find segment to merge\u001b[0m\u001b[0;34m\u001b[0m\u001b[0;34m\u001b[0m\u001b[0m\n\u001b[1;32m    196\u001b[0m             \u001b[0;32mtry\u001b[0m\u001b[0;34m:\u001b[0m\u001b[0;34m\u001b[0m\u001b[0m\n",
      "\u001b[0;32m/home/sean/.pyenv/versions/anaconda3-4.4.0/lib/python3.6/site-packages/ruptures/detection/bottomup.py\u001b[0m in \u001b[0;36m_merge\u001b[0;34m(self, left, right)\u001b[0m\n\u001b[1;32m    168\u001b[0m         \u001b[0;32massert\u001b[0m \u001b[0mleft\u001b[0m\u001b[0;34m.\u001b[0m\u001b[0mend\u001b[0m \u001b[0;34m==\u001b[0m \u001b[0mright\u001b[0m\u001b[0;34m.\u001b[0m\u001b[0mstart\u001b[0m\u001b[0;34m,\u001b[0m \u001b[0;34m\"Segments are not contiguous.\"\u001b[0m\u001b[0;34m\u001b[0m\u001b[0m\n\u001b[1;32m    169\u001b[0m         \u001b[0mstart\u001b[0m\u001b[0;34m,\u001b[0m \u001b[0mend\u001b[0m \u001b[0;34m=\u001b[0m \u001b[0mleft\u001b[0m\u001b[0;34m.\u001b[0m\u001b[0mstart\u001b[0m\u001b[0;34m,\u001b[0m \u001b[0mright\u001b[0m\u001b[0;34m.\u001b[0m\u001b[0mend\u001b[0m\u001b[0;34m\u001b[0m\u001b[0m\n\u001b[0;32m--> 170\u001b[0;31m         \u001b[0mval\u001b[0m \u001b[0;34m=\u001b[0m \u001b[0mself\u001b[0m\u001b[0;34m.\u001b[0m\u001b[0mcost\u001b[0m\u001b[0;34m.\u001b[0m\u001b[0merror\u001b[0m\u001b[0;34m(\u001b[0m\u001b[0mstart\u001b[0m\u001b[0;34m,\u001b[0m \u001b[0mend\u001b[0m\u001b[0;34m)\u001b[0m\u001b[0;34m\u001b[0m\u001b[0m\n\u001b[0m\u001b[1;32m    171\u001b[0m         \u001b[0mnode\u001b[0m \u001b[0;34m=\u001b[0m \u001b[0mBnode\u001b[0m\u001b[0;34m(\u001b[0m\u001b[0mstart\u001b[0m\u001b[0;34m,\u001b[0m \u001b[0mend\u001b[0m\u001b[0;34m,\u001b[0m \u001b[0mval\u001b[0m\u001b[0;34m,\u001b[0m \u001b[0mleft\u001b[0m\u001b[0;34m=\u001b[0m\u001b[0mleft\u001b[0m\u001b[0;34m,\u001b[0m \u001b[0mright\u001b[0m\u001b[0;34m=\u001b[0m\u001b[0mright\u001b[0m\u001b[0;34m)\u001b[0m\u001b[0;34m\u001b[0m\u001b[0m\n\u001b[1;32m    172\u001b[0m         \u001b[0;32mreturn\u001b[0m \u001b[0mnode\u001b[0m\u001b[0;34m\u001b[0m\u001b[0m\n",
      "\u001b[0;32m/home/sean/.pyenv/versions/anaconda3-4.4.0/lib/python3.6/site-packages/ruptures/costs/costl1.py\u001b[0m in \u001b[0;36merror\u001b[0;34m(self, start, end)\u001b[0m\n\u001b[1;32m    123\u001b[0m             \u001b[0;32mraise\u001b[0m \u001b[0mNotEnoughPoints\u001b[0m\u001b[0;34m\u001b[0m\u001b[0m\n\u001b[1;32m    124\u001b[0m         \u001b[0msub\u001b[0m \u001b[0;34m=\u001b[0m \u001b[0mself\u001b[0m\u001b[0;34m.\u001b[0m\u001b[0msignal\u001b[0m\u001b[0;34m[\u001b[0m\u001b[0mstart\u001b[0m\u001b[0;34m:\u001b[0m\u001b[0mend\u001b[0m\u001b[0;34m]\u001b[0m\u001b[0;34m\u001b[0m\u001b[0m\n\u001b[0;32m--> 125\u001b[0;31m         \u001b[0mmed\u001b[0m \u001b[0;34m=\u001b[0m \u001b[0mnp\u001b[0m\u001b[0;34m.\u001b[0m\u001b[0mmedian\u001b[0m\u001b[0;34m(\u001b[0m\u001b[0msub\u001b[0m\u001b[0;34m,\u001b[0m \u001b[0maxis\u001b[0m\u001b[0;34m=\u001b[0m\u001b[0;36m0\u001b[0m\u001b[0;34m)\u001b[0m\u001b[0;34m\u001b[0m\u001b[0m\n\u001b[0m\u001b[1;32m    126\u001b[0m \u001b[0;34m\u001b[0m\u001b[0m\n\u001b[1;32m    127\u001b[0m         \u001b[0;32mreturn\u001b[0m \u001b[0mabs\u001b[0m\u001b[0;34m(\u001b[0m\u001b[0msub\u001b[0m \u001b[0;34m-\u001b[0m \u001b[0mmed\u001b[0m\u001b[0;34m)\u001b[0m\u001b[0;34m.\u001b[0m\u001b[0msum\u001b[0m\u001b[0;34m(\u001b[0m\u001b[0;34m)\u001b[0m\u001b[0;34m\u001b[0m\u001b[0m\n",
      "\u001b[0;32m/home/sean/.pyenv/versions/anaconda3-4.4.0/lib/python3.6/site-packages/numpy/lib/function_base.py\u001b[0m in \u001b[0;36mmedian\u001b[0;34m(a, axis, out, overwrite_input, keepdims)\u001b[0m\n\u001b[1;32m   4100\u001b[0m     \"\"\"\n\u001b[1;32m   4101\u001b[0m     r, k = _ureduce(a, func=_median, axis=axis, out=out,\n\u001b[0;32m-> 4102\u001b[0;31m                     overwrite_input=overwrite_input)\n\u001b[0m\u001b[1;32m   4103\u001b[0m     \u001b[0;32mif\u001b[0m \u001b[0mkeepdims\u001b[0m\u001b[0;34m:\u001b[0m\u001b[0;34m\u001b[0m\u001b[0m\n\u001b[1;32m   4104\u001b[0m         \u001b[0;32mreturn\u001b[0m \u001b[0mr\u001b[0m\u001b[0;34m.\u001b[0m\u001b[0mreshape\u001b[0m\u001b[0;34m(\u001b[0m\u001b[0mk\u001b[0m\u001b[0;34m)\u001b[0m\u001b[0;34m\u001b[0m\u001b[0m\n",
      "\u001b[0;32m/home/sean/.pyenv/versions/anaconda3-4.4.0/lib/python3.6/site-packages/numpy/lib/function_base.py\u001b[0m in \u001b[0;36m_ureduce\u001b[0;34m(a, func, **kwargs)\u001b[0m\n\u001b[1;32m   4014\u001b[0m         \u001b[0mkeepdim\u001b[0m \u001b[0;34m=\u001b[0m \u001b[0;34m[\u001b[0m\u001b[0;36m1\u001b[0m\u001b[0;34m]\u001b[0m \u001b[0;34m*\u001b[0m \u001b[0ma\u001b[0m\u001b[0;34m.\u001b[0m\u001b[0mndim\u001b[0m\u001b[0;34m\u001b[0m\u001b[0m\n\u001b[1;32m   4015\u001b[0m \u001b[0;34m\u001b[0m\u001b[0m\n\u001b[0;32m-> 4016\u001b[0;31m     \u001b[0mr\u001b[0m \u001b[0;34m=\u001b[0m \u001b[0mfunc\u001b[0m\u001b[0;34m(\u001b[0m\u001b[0ma\u001b[0m\u001b[0;34m,\u001b[0m \u001b[0;34m**\u001b[0m\u001b[0mkwargs\u001b[0m\u001b[0;34m)\u001b[0m\u001b[0;34m\u001b[0m\u001b[0m\n\u001b[0m\u001b[1;32m   4017\u001b[0m     \u001b[0;32mreturn\u001b[0m \u001b[0mr\u001b[0m\u001b[0;34m,\u001b[0m \u001b[0mkeepdim\u001b[0m\u001b[0;34m\u001b[0m\u001b[0m\n\u001b[1;32m   4018\u001b[0m \u001b[0;34m\u001b[0m\u001b[0m\n",
      "\u001b[0;32m/home/sean/.pyenv/versions/anaconda3-4.4.0/lib/python3.6/site-packages/numpy/lib/function_base.py\u001b[0m in \u001b[0;36m_median\u001b[0;34m(a, axis, out, overwrite_input)\u001b[0m\n\u001b[1;32m   4152\u001b[0m     \u001b[0;32mif\u001b[0m \u001b[0mnp\u001b[0m\u001b[0;34m.\u001b[0m\u001b[0missubdtype\u001b[0m\u001b[0;34m(\u001b[0m\u001b[0ma\u001b[0m\u001b[0;34m.\u001b[0m\u001b[0mdtype\u001b[0m\u001b[0;34m,\u001b[0m \u001b[0mnp\u001b[0m\u001b[0;34m.\u001b[0m\u001b[0minexact\u001b[0m\u001b[0;34m)\u001b[0m \u001b[0;32mand\u001b[0m \u001b[0msz\u001b[0m \u001b[0;34m>\u001b[0m \u001b[0;36m0\u001b[0m\u001b[0;34m:\u001b[0m\u001b[0;34m\u001b[0m\u001b[0m\n\u001b[1;32m   4153\u001b[0m         \u001b[0;31m# warn and return nans like mean would\u001b[0m\u001b[0;34m\u001b[0m\u001b[0;34m\u001b[0m\u001b[0m\n\u001b[0;32m-> 4154\u001b[0;31m         \u001b[0mrout\u001b[0m \u001b[0;34m=\u001b[0m \u001b[0mmean\u001b[0m\u001b[0;34m(\u001b[0m\u001b[0mpart\u001b[0m\u001b[0;34m[\u001b[0m\u001b[0mindexer\u001b[0m\u001b[0;34m]\u001b[0m\u001b[0;34m,\u001b[0m \u001b[0maxis\u001b[0m\u001b[0;34m=\u001b[0m\u001b[0maxis\u001b[0m\u001b[0;34m,\u001b[0m \u001b[0mout\u001b[0m\u001b[0;34m=\u001b[0m\u001b[0mout\u001b[0m\u001b[0;34m)\u001b[0m\u001b[0;34m\u001b[0m\u001b[0m\n\u001b[0m\u001b[1;32m   4155\u001b[0m         \u001b[0;32mreturn\u001b[0m \u001b[0mnp\u001b[0m\u001b[0;34m.\u001b[0m\u001b[0mlib\u001b[0m\u001b[0;34m.\u001b[0m\u001b[0mutils\u001b[0m\u001b[0;34m.\u001b[0m\u001b[0m_median_nancheck\u001b[0m\u001b[0;34m(\u001b[0m\u001b[0mpart\u001b[0m\u001b[0;34m,\u001b[0m \u001b[0mrout\u001b[0m\u001b[0;34m,\u001b[0m \u001b[0maxis\u001b[0m\u001b[0;34m,\u001b[0m \u001b[0mout\u001b[0m\u001b[0;34m)\u001b[0m\u001b[0;34m\u001b[0m\u001b[0m\n\u001b[1;32m   4156\u001b[0m     \u001b[0;32melse\u001b[0m\u001b[0;34m:\u001b[0m\u001b[0;34m\u001b[0m\u001b[0m\n",
      "\u001b[0;31mKeyboardInterrupt\u001b[0m: "
     ]
    }
   ],
   "source": [
    "import numpy as np\n",
    "\n",
    "for i in range(1, 1000, 10):#len(imdata)):\n",
    "    label_data, class_names = get_hue_label(start_time, times[i])\n",
    "    models, misc = learner.update_models(imdata[:i], times[:i], label_data)\n",
    "    \n",
    "    X = misc['matrix']\n",
    "    print(misc['train_labels']['hue']['indices'])\n",
    "    #print(X.shape, misc['train_labels']['hue']['intervals'], class_names)\n",
    "    #print(len(misc['train_labels']['hue']['intervals']), len(label_data['hue']))\n",
    "\n",
    "    for k in range(len(label_data['hue'])):\n",
    "        interval = misc['train_labels']['hue']['intervals'][k]\n",
    "        \n",
    "        if len(interval) <= 0:\n",
    "            continue\n",
    "        \n",
    "        start, end = interval    \n",
    "        vec = np.mean(X[start:end], axis=0)\n",
    "        label_name = class_names[label_data['hue'][k][1]]\n",
    "        \n",
    "        rep_index = np.argmax(np.sum((X - vec)**2.0, axis=1))\n",
    "        print(label_name, interval, rep_index)\n",
    "    print('---')\n",
    "\n",
    "    #plt.imshow(StandardScaler().fit_transform(X).T, aspect='auto')\n",
    "    #plt.show()"
   ]
  },
  {
   "cell_type": "code",
   "execution_count": 396,
   "metadata": {
    "collapsed": true
   },
   "outputs": [],
   "source": [
    "import ruptures as rpt"
   ]
  },
  {
   "cell_type": "code",
   "execution_count": 404,
   "metadata": {},
   "outputs": [
    {
     "data": {
      "text/plain": [
       "619"
      ]
     },
     "execution_count": 404,
     "metadata": {},
     "output_type": "execute_result"
    }
   ],
   "source": [
    "print"
   ]
  },
  {
   "cell_type": "code",
   "execution_count": null,
   "metadata": {
    "collapsed": true
   },
   "outputs": [],
   "source": []
  }
 ],
 "metadata": {
  "kernelspec": {
   "display_name": "Python 3",
   "language": "python",
   "name": "python3"
  },
  "language_info": {
   "codemirror_mode": {
    "name": "ipython",
    "version": 3
   },
   "file_extension": ".py",
   "mimetype": "text/x-python",
   "name": "python",
   "nbconvert_exporter": "python",
   "pygments_lexer": "ipython3",
   "version": "3.6.1"
  }
 },
 "nbformat": 4,
 "nbformat_minor": 2
}
