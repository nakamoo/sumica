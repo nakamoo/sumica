{
 "cells": [
  {
   "cell_type": "code",
   "execution_count": 1,
   "metadata": {},
   "outputs": [],
   "source": [
    "import os\n",
    "import sys\n",
    "\n",
    "sys.path.append(\"..\")\n",
    "os.chdir(\"/home/sean/HAI/main_server/sumica\")"
   ]
  },
  {
   "cell_type": "code",
   "execution_count": 2,
   "metadata": {},
   "outputs": [
    {
     "name": "stdout",
     "output_type": "stream",
     "text": [
      "1516028400.0 1516287600.0\n"
     ]
    }
   ],
   "source": [
    "import time\n",
    "from utils import db\n",
    "import datetime\n",
    "\n",
    "start_time = time.mktime(datetime.date(2018, 1, 16).timetuple())\n",
    "end_time = time.mktime(datetime.date(2018, 1, 19).timetuple())\n",
    "results = db.labels.find({\"username\": \"sean\", \"time\": {\"$gt\": start_time, \"$lt\": end_time}})\n",
    "label_types = results.distinct(\"label\")\n",
    "results = list(results)\n",
    "print(start_time, end_time)"
   ]
  },
  {
   "cell_type": "code",
   "execution_count": 3,
   "metadata": {},
   "outputs": [
    {
     "data": {
      "text/plain": [
       "([{'_id': ObjectId('5a5f6b4f1d41c80dbfcf9623'),\n",
       "   'label': 'test',\n",
       "   'time': 1516202831.8121428,\n",
       "   'username': 'sean'},\n",
       "  {'_id': ObjectId('5a5f720a1d41c87c68eb9146'),\n",
       "   'label': 'test',\n",
       "   'time': 1516204554.6357632,\n",
       "   'username': 'sean'}],\n",
       " ['test'])"
      ]
     },
     "execution_count": 3,
     "metadata": {},
     "output_type": "execute_result"
    }
   ],
   "source": [
    "results, label_types"
   ]
  },
  {
   "cell_type": "code",
   "execution_count": 4,
   "metadata": {},
   "outputs": [
    {
     "data": {
      "text/plain": [
       "{'activity': [(1516202831.8121428, 0), (1516204554.6357632, 0)]}"
      ]
     },
     "execution_count": 4,
     "metadata": {},
     "output_type": "execute_result"
    }
   ],
   "source": [
    "labels = [r[\"label\"] for r in results]\n",
    "labels = [(r[\"time\"], label_types.index(r[\"label\"])) for r in results]\n",
    "labels = {\"activity\": labels}\n",
    "labels"
   ]
  },
  {
   "cell_type": "code",
   "execution_count": 5,
   "metadata": {},
   "outputs": [],
   "source": [
    "%load_ext autoreload\n",
    "%autoreload 2\n",
    "\n",
    "from flask import Flask\n",
    "\n",
    "username = \"sean\"\n",
    "\n",
    "app = Flask(__name__)\n",
    "app.config.from_object('config.Config')\n",
    "\n",
    "with app.app_context():\n",
    "    from controllers.activitylearner import ActivityLearner"
   ]
  },
  {
   "cell_type": "code",
   "execution_count": 6,
   "metadata": {
    "collapsed": true
   },
   "outputs": [],
   "source": [
    "act = ActivityLearner(username, start_thread=False)"
   ]
  },
  {
   "cell_type": "code",
   "execution_count": 7,
   "metadata": {
    "scrolled": false
   },
   "outputs": [
    {
     "name": "stderr",
     "output_type": "stream",
     "text": [
      "2018-01-19 04:55:59 ubuntu controllers.activitylearner[10336] DEBUG labels: {'activity': [(1516202831.8121428, 0), (1516204554.6357632, 0)]}\n",
      "2018-01-19 04:56:00 ubuntu controllers.tests.learner2[10336] DEBUG dataset size: 2491\n",
      "2018-01-19 04:56:00 ubuntu controllers.tests.learner2[10336] DEBUG already recorded: []\n",
      "2018-01-19 04:56:00 ubuntu controllers.tests.learner2[10336] DEBUG last fixed: 0, start fit: 0\n",
      "2018-01-19 04:56:04 ubuntu controllers.tests.learner2[10336] DEBUG new segments: [(0, 6), (7, 10), (11, 19), (20, 27), (27, 41), (41, 46), (46, 63), (63, 71), (71, 76), (76, 87), (87, 96), (96, 106), (107, 109), (110, 111), (112, 112), (113, 116), (117, 118), (119, 119), (120, 120), (121, 124), (124, 131), (131, 134), (135, 144), (144, 153), (153, 161), (161, 168), (168, 172), (172, 174), (174, 189), (189, 194), (195, 213), (213, 230), (230, 240), (240, 249), (249, 255), (255, 261), (262, 264), (264, 266), (266, 275), (275, 279), (280, 282), (283, 320), (320, 347), (347, 364), (364, 377), (377, 395), (395, 411), (411, 416), (416, 435), (435, 439), (439, 446), (446, 453), (453, 491), (491, 502), (502, 527), (527, 536), (536, 543), (543, 550), (550, 556), (556, 567), (568, 573), (574, 574), (575, 579), (579, 581), (581, 589), (589, 591), (592, 603), (603, 631), (631, 656), (656, 663), (663, 668), (668, 678), (678, 690), (690, 698), (699, 711), (711, 720), (720, 723), (723, 738), (738, 746), (747, 754), (755, 758), (759, 774), (774, 804), (804, 835), (835, 844), (844, 869), (869, 890), (890, 912), (912, 924), (924, 937), (937, 1008), (1008, 1044), (1044, 1050), (1050, 1072), (1072, 1093), (1093, 1103), (1103, 1106), (1106, 1115), (1115, 1152), (1153, 1173), (1173, 1216), (1216, 1224), (1224, 1260), (1260, 1276), (1276, 1281), (1281, 1309), (1309, 1320), (1320, 1330), (1330, 1356), (1356, 1374), (1374, 1380), (1380, 1408), (1408, 1423), (1423, 1433), (1433, 1481), (1481, 1486), (1486, 1489), (1489, 1504), (1504, 1506), (1506, 1535), (1535, 1547), (1547, 1550), (1550, 1552), (1552, 2456), (2456, 2463), (2463, 2476), (2477, 2480), (2480, 2484), (2484, 2490)]\n",
      "2018-01-19 04:56:04 ubuntu controllers.tests.learner2[10336] DEBUG stored 123 new segments\n",
      "2018-01-19 04:56:04 ubuntu controllers.tests.learner2[10336] DEBUG last segment: {'username': 'sean', 'start_time': 1516206219.5931327, 'end_time': 1516206226.847426, '_id': ObjectId('5a60fbd41d41c828602d6d2d')}\n"
     ]
    }
   ],
   "source": [
    "act.update_learner()"
   ]
  },
  {
   "cell_type": "code",
   "execution_count": 9,
   "metadata": {},
   "outputs": [
    {
     "name": "stderr",
     "output_type": "stream",
     "text": [
      "2018-01-19 04:57:34 ubuntu controllers.activitylearner[10336] DEBUG labels: {'activity': [(1516202831.8121428, 0), (1516204554.6357632, 0)]}\n",
      "2018-01-19 04:57:35 ubuntu controllers.tests.learner2[10336] DEBUG dataset size: 2491\n",
      "2018-01-19 04:57:35 ubuntu controllers.tests.learner2[10336] DEBUG last recorded segment: {'_id': ObjectId('5a60fbd41d41c828602d6d2d'), 'username': 'sean', 'start_time': 1516206219.5931327, 'end_time': 1516206226.847426}\n",
      "2018-01-19 04:57:35 ubuntu controllers.tests.learner2[10336] DEBUG already recorded: [[0, 6], [7, 10], [11, 19], [20, 27], [27, 41], [41, 46], [46, 63], [63, 71], [71, 76], [76, 87], [87, 96], [96, 106], [107, 109], [110, 111], [112, 112], [113, 116], [117, 118], [119, 119], [120, 120], [121, 124], [124, 131], [131, 134], [135, 144], [144, 153], [153, 161], [161, 168], [168, 172], [172, 174], [174, 189], [189, 194], [195, 213], [213, 230], [230, 240], [240, 249], [249, 255], [255, 261], [262, 264], [264, 266], [266, 275], [275, 279], [280, 282], [283, 320], [320, 347], [347, 364], [364, 377], [377, 395], [395, 411], [411, 416], [416, 435], [435, 439], [439, 446], [446, 453], [453, 491], [491, 502], [502, 527], [527, 536], [536, 543], [543, 550], [550, 556], [556, 567], [568, 573], [574, 574], [575, 579], [579, 581], [581, 589], [589, 591], [592, 603], [603, 631], [631, 656], [656, 663], [663, 668], [668, 678], [678, 690], [690, 698], [699, 711], [711, 720], [720, 723], [723, 738], [738, 746], [747, 754], [755, 758], [759, 774], [774, 804], [804, 835], [835, 844], [844, 869], [869, 890], [890, 912], [912, 924], [924, 937], [937, 1008], [1008, 1044], [1044, 1050], [1050, 1072], [1072, 1093], [1093, 1103], [1103, 1106], [1106, 1115], [1115, 1152], [1153, 1173], [1173, 1216], [1216, 1224], [1224, 1260], [1260, 1276], [1276, 1281], [1281, 1309], [1309, 1320], [1320, 1330], [1330, 1356], [1356, 1374], [1374, 1380], [1380, 1408], [1408, 1423], [1423, 1433], [1433, 1481], [1481, 1486], [1486, 1489], [1489, 1504], [1504, 1506], [1506, 1535], [1535, 1547], [1547, 1550], [1550, 1552]]\n",
      "2018-01-19 04:57:35 ubuntu controllers.tests.learner2[10336] DEBUG last fixed: 1552, start fit: 1491\n",
      "2018-01-19 04:57:39 ubuntu controllers.tests.learner2[10336] DEBUG new segments: [(1552, 2457), (2457, 2465), (2465, 2476), (2477, 2480), (2480, 2484), (2484, 2490)]\n",
      "2018-01-19 04:57:39 ubuntu controllers.tests.learner2[10336] DEBUG stored 0 new segments\n"
     ]
    }
   ],
   "source": [
    "act.update_learner()"
   ]
  },
  {
   "cell_type": "code",
   "execution_count": null,
   "metadata": {
    "collapsed": true
   },
   "outputs": [],
   "source": []
  }
 ],
 "metadata": {
  "kernelspec": {
   "display_name": "Python 3",
   "language": "python",
   "name": "python3"
  },
  "language_info": {
   "codemirror_mode": {
    "name": "ipython",
    "version": 3
   },
   "file_extension": ".py",
   "mimetype": "text/x-python",
   "name": "python",
   "nbconvert_exporter": "python",
   "pygments_lexer": "ipython3",
   "version": "3.6.1"
  }
 },
 "nbformat": 4,
 "nbformat_minor": 2
}
