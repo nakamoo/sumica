{
 "cells": [
  {
   "cell_type": "code",
   "execution_count": 1,
   "metadata": {},
   "outputs": [
    {
     "name": "stdout",
     "output_type": "stream",
     "text": [
      "Input password for image encryption.\n",
      "········\n"
     ]
    }
   ],
   "source": [
    "import sys\n",
    "import os\n",
    "from matplotlib import pyplot as plt\n",
    "\n",
    "sys.path.append(\"..\")\n",
    "os.chdir(\"/home/sean/HAI/main_server/hai\")\n",
    "import hai"
   ]
  },
  {
   "cell_type": "code",
   "execution_count": 2,
   "metadata": {
    "collapsed": true
   },
   "outputs": [],
   "source": [
    "import database as db"
   ]
  },
  {
   "cell_type": "code",
   "execution_count": null,
   "metadata": {
    "collapsed": true
   },
   "outputs": [],
   "source": []
  },
  {
   "cell_type": "code",
   "execution_count": null,
   "metadata": {
    "collapsed": true
   },
   "outputs": [],
   "source": []
  },
  {
   "cell_type": "code",
   "execution_count": null,
   "metadata": {
    "collapsed": true
   },
   "outputs": [],
   "source": []
  },
  {
   "cell_type": "code",
   "execution_count": null,
   "metadata": {
    "collapsed": true
   },
   "outputs": [],
   "source": []
  },
  {
   "cell_type": "code",
   "execution_count": 3,
   "metadata": {},
   "outputs": [
    {
     "name": "stdout",
     "output_type": "stream",
     "text": [
      "1505045739.9041457\n"
     ]
    }
   ],
   "source": [
    "import time\n",
    "current_time = time.time()-1200\n",
    "print(current_time)"
   ]
  },
  {
   "cell_type": "code",
   "execution_count": 38,
   "metadata": {},
   "outputs": [
    {
     "name": "stdout",
     "output_type": "stream",
     "text": [
      "2105 772\n"
     ]
    }
   ],
   "source": [
    "t = 1505039422\n",
    "query = {\"user_name\": \"sean\", \"cam_id\": \"0\", \"summary\":{\"$exists\": True}, \"time\": {\"$gt\": t}}\n",
    "n = db.mongo.images.find(query).sort([(\"time\",-1)])\n",
    "image_data = list(n)\n",
    "\n",
    "query = {\"user_name\": \"sean\", \"time\": {\"$gt\": t}}\n",
    "n = db.mongo.hue.find(query).sort([(\"time\",-1)])\n",
    "hue_data = list(n)\n",
    "\n",
    "print(len(image_data), len(hue_data))"
   ]
  },
  {
   "cell_type": "code",
   "execution_count": 39,
   "metadata": {},
   "outputs": [
    {
     "data": {
      "image/png": "[encoded data removed]",
      "text/plain": [
       "<matplotlib.figure.Figure at 0x7fbf7fbca208>"
      ]
     },
     "metadata": {},
     "output_type": "display_data"
    }
   ],
   "source": [
    "import numpy as np\n",
    "import time\n",
    "current_time = time.time()\n",
    "image_times = [img[\"time\"]-current_time for img in image_data]\n",
    "hue_times = [d[\"time\"]-current_time for d in hue_data]\n",
    "plt.scatter(image_times, np.ones(len(image_times)), color=\"blue\")\n",
    "plt.scatter(hue_times, np.ones(len(hue_times))*2, color=\"red\")\n",
    "plt.show()"
   ]
  },
  {
   "cell_type": "code",
   "execution_count": 40,
   "metadata": {},
   "outputs": [
    {
     "data": {
      "text/plain": [
       "{'_id': ObjectId('59b53ff11d41c87937e31ecb'),\n",
       " 'lights': '[{\"name\": \"Hue color lamp 1\", \"manufacturername\": \"Philips\", \"modelid\": \"LCT007\", \"id\": \"1\", \"uniqueid\": \"00:17:88:01:02:06:bc:4f-0b\", \"type\": \"Extended color light\", \"state\": {\"xy\": [0, 0], \"hue\": 0, \"reachable\": false, \"colormode\": \"hs\", \"effect\": \"none\", \"sat\": 0, \"on\": true, \"bri\": 0, \"alert\": \"none\", \"ct\": 0}, \"swversion\": \"\"}, {\"name\": \"Hue color lamp 2\", \"manufacturername\": \"Philips\", \"modelid\": \"LCT007\", \"id\": \"2\", \"uniqueid\": \"00:17:88:01:02:04:d6:7c-0b\", \"type\": \"Extended color light\", \"state\": {\"xy\": [0.4449, 0.4066], \"hue\": 15327, \"reachable\": true, \"colormode\": \"ct\", \"effect\": \"none\", \"sat\": 121, \"on\": false, \"bri\": 68, \"alert\": \"none\", \"ct\": 346}, \"swversion\": \"5.38.1.14919\"}, {\"name\": \"Hue color lamp 3\", \"manufacturername\": \"Philips\", \"modelid\": \"LCT007\", \"id\": \"3\", \"uniqueid\": \"00:17:88:01:02:06:bb:4c-0b\", \"type\": \"Extended color light\", \"state\": {\"xy\": [0.4449, 0.4066], \"hue\": 15324, \"reachable\": true, \"colormode\": \"ct\", \"effect\": \"none\", \"sat\": 121, \"on\": false, \"bri\": 254, \"alert\": \"none\", \"ct\": 346}, \"swversion\": \"5.50.1.19085\"}]',\n",
       " 'time': 1505050608.574216,\n",
       " 'user_name': 'sean'}"
      ]
     },
     "execution_count": 40,
     "metadata": {},
     "output_type": "execute_result"
    }
   ],
   "source": [
    "hue_data[0]"
   ]
  },
  {
   "cell_type": "code",
   "execution_count": 41,
   "metadata": {
    "collapsed": true
   },
   "outputs": [],
   "source": [
    "def get_objects(data):\n",
    "    look_all, touch_all = [], []\n",
    "    for n in data:\n",
    "        look_objects = []\n",
    "        touch_objects = []\n",
    "        for obj in n[\"summary\"]:\n",
    "            if obj[\"label\"] == \"person\" and \"touching\" in obj:\n",
    "                touch_objects.extend(obj[\"touching\"])\n",
    "                look_objects.append(obj[\"looking\"])\n",
    "        look_all.extend(look_objects)\n",
    "        touch_all.extend(touch_objects)\n",
    "    return touch_all, look_all\n",
    "\n",
    "touch_list, look_list = get_objects(image_data)\n",
    "touch_classes = list(set(touch_list))\n",
    "look_classes = list(set(look_list))\n",
    "look_classes.remove(\"None\")"
   ]
  },
  {
   "cell_type": "code",
   "execution_count": 42,
   "metadata": {},
   "outputs": [
    {
     "name": "stdout",
     "output_type": "stream",
     "text": [
      "['laptop', 'toothbrush', 'suitcase', 'cup', 'tie', 'person', 'book', 'fork', 'tennis racket', 'keyboard', 'couch', 'backpack', 'chair', 'cell phone', 'remote'] ['laptop', 'tie', 'person', 'knife', 'book', 'couch', 'backpack', 'cell phone', 'remote']\n"
     ]
    },
    {
     "data": {
      "text/plain": [
       "5"
      ]
     },
     "execution_count": 42,
     "metadata": {},
     "output_type": "execute_result"
    }
   ],
   "source": [
    "print(touch_classes, look_classes)\n",
    "touch_classes.index(\"person\")"
   ]
  },
  {
   "cell_type": "code",
   "execution_count": 47,
   "metadata": {
    "collapsed": true
   },
   "outputs": [],
   "source": [
    "def data2vec(data):\n",
    "    person_exists = 0\n",
    "    touch_vec = np.zeros(len(touch_classes))\n",
    "    look_vec = np.zeros(len(look_classes))\n",
    "    #brightness = data[\"brightness\"]\n",
    "\n",
    "    for obj in data[\"summary\"]:\n",
    "        if obj[\"label\"] == \"person\":\n",
    "            person_exists = 1\n",
    "            \n",
    "            if \"touching\" in obj:\n",
    "                for t_obj in obj[\"touching\"]:\n",
    "                    touch_vec[touch_classes.index(t_obj)] = 1\n",
    "                if obj[\"looking\"] and obj[\"looking\"] != \"None\":\n",
    "                    look_vec[look_classes.index(obj[\"looking\"])] = 1\n",
    "        \n",
    "    return np.concatenate([[person_exists], touch_vec, look_vec])"
   ]
  },
  {
   "cell_type": "code",
   "execution_count": 48,
   "metadata": {
    "collapsed": true
   },
   "outputs": [],
   "source": [
    "\n",
    "dataX = [] # summaries\n",
    "\n",
    "dataX = [data2vec(data) for data in image_data]"
   ]
  },
  {
   "cell_type": "code",
   "execution_count": 49,
   "metadata": {},
   "outputs": [
    {
     "name": "stdout",
     "output_type": "stream",
     "text": [
      "(2105, 25)\n"
     ]
    }
   ],
   "source": [
    "dataX = np.array(dataX)\n",
    "print(dataX.shape)"
   ]
  },
  {
   "cell_type": "code",
   "execution_count": 50,
   "metadata": {
    "scrolled": true
   },
   "outputs": [
    {
     "name": "stdout",
     "output_type": "stream",
     "text": [
      "['laptop', 'toothbrush', 'suitcase', 'cup', 'tie', 'person', 'book', 'fork', 'tennis racket', 'keyboard', 'couch', 'backpack', 'chair', 'cell phone', 'remote'] ['laptop', 'tie', 'person', 'knife', 'book', 'couch', 'backpack', 'cell phone', 'remote']\n",
      "(2105, 25)\n"
     ]
    },
    {
     "data": {
      "image/png": "[encoded data removed]",
      "text/plain": [
       "<matplotlib.figure.Figure at 0x7fbf6ad13fd0>"
      ]
     },
     "metadata": {},
     "output_type": "display_data"
    }
   ],
   "source": [
    "%matplotlib inline\n",
    "print(touch_classes, look_classes)\n",
    "\n",
    "ylabels = [\"person\"] + [\"touch:\" + t for t in touch_classes] + [\"look:\" + t for t in look_classes]\n",
    "plt.yticks(np.arange(len(ylabels)), ylabels)\n",
    "plt.imshow(dataX.T, aspect=\"auto\")\n",
    "print(dataX.shape)"
   ]
  },
  {
   "cell_type": "code",
   "execution_count": null,
   "metadata": {
    "scrolled": false
   },
   "outputs": [
    {
     "data": {
      "text/plain": [
       "'\\nfor i in range(0, len(image_data), 10):\\n    img = imread(\"images/raw_images/\" + image_data[i][\"filename\"])\\n    plt.title(str(i))\\n    plt.imshow(img, aspect=\"auto\")\\n    plt.show()\\n'"
      ]
     },
     "execution_count": 13,
     "metadata": {},
     "output_type": "execute_result"
    }
   ],
   "source": [
    "from scipy.misc import imread\n",
    "\"\"\"\n",
    "for i in range(0, len(image_data), 10):\n",
    "    img = imread(\"images/raw_images/\" + image_data[i][\"filename\"])\n",
    "    plt.title(str(i))\n",
    "    plt.imshow(img, aspect=\"auto\")\n",
    "    plt.show()\n",
    "\"\"\""
   ]
  },
  {
   "cell_type": "code",
   "execution_count": 37,
   "metadata": {},
   "outputs": [
    {
     "data": {
      "text/plain": [
       "<matplotlib.collections.PathCollection at 0x7fbf6a37c908>"
      ]
     },
     "execution_count": 37,
     "metadata": {},
     "output_type": "execute_result"
    },
    {
     "data": {
      "image/png": "[encoded data removed]",
      "text/plain": [
       "<matplotlib.figure.Figure at 0x7fbf6a465668>"
      ]
     },
     "metadata": {},
     "output_type": "display_data"
    },
    {
     "name": "stdout",
     "output_type": "stream",
     "text": [
      "missing file ./pose_data/46b6010c-a4ab-4dfc-aa1a-af2667fb4240_keypoints.json\n",
      "missing file ./pose_data/302b289d-f1a7-4a23-a59c-6de742e9fe3c_keypoints.json\n",
      "missing file ./pose_data/931d310d-6625-4a73-8a8f-6fd355c73b37_keypoints.json\n",
      "missing file ./pose_data/1b9b689f-8c35-4ba8-84e1-89baa236b04f_keypoints.json\n",
      "missing file ./pose_data/8cfd0af7-b25c-4d03-92cb-499541177ec4_keypoints.json\n"
     ]
    }
   ],
   "source": [
    "from sklearn.decomposition import PCA\n",
    "pca = PCA(n_components=2)\n",
    "dataX_r = pca.fit(dataX).transform(dataX)\n",
    "\n",
    "colors = [i / 8 for i in range(8) for _ in range(100)]\n",
    "#colors = [(i / len(dataX), 0, 0) for i in range(len(dataX))]\n",
    "plt.scatter(dataX_r[:,0], dataX_r[:,1], c=colors, cmap=plt.get_cmap(\"plasma\"))"
   ]
  },
  {
   "cell_type": "code",
   "execution_count": 78,
   "metadata": {
    "collapsed": true
   },
   "outputs": [],
   "source": [
    "import json\n",
    "\n",
    "def get_hue_data(row):\n",
    "    vec = []\n",
    "    for light in row:\n",
    "        state = light[\"state\"]\n",
    "        if state[\"reachable\"]:\n",
    "            vec.append([int(state[\"on\"]), state[\"hue\"] / 65535.0, state[\"sat\"] / 255.0, state[\"bri\"] / 255.0])\n",
    "        else:\n",
    "            vec.append(None)\n",
    "    return vec\n",
    "        \n",
    "hue_mat = [get_hue_data(json.loads(hue_data[i][\"lights\"])) for i in range(len(hue_data))]"
   ]
  },
  {
   "cell_type": "code",
   "execution_count": 81,
   "metadata": {},
   "outputs": [
    {
     "data": {
      "text/plain": [
       "[<matplotlib.lines.Line2D at 0x7fbf8813bc88>]"
      ]
     },
     "execution_count": 81,
     "metadata": {},
     "output_type": "execute_result"
    },
    {
     "data": {
      "image/png": "[encoded data removed]",
      "text/plain": [
       "<matplotlib.figure.Figure at 0x7fbf6a6a8b38>"
      ]
     },
     "metadata": {},
     "output_type": "display_data"
    },
    {
     "name": "stdout",
     "output_type": "stream",
     "text": [
      "missing file ./pose_data/fb38e9ea-5869-41e5-bfb5-7b437faeb837_keypoints.json\n",
      "missing file ./pose_data/20eb5da5-4e33-4c87-b861-1fbe955941fb_keypoints.json\n",
      "missing file ./pose_data/8d657e51-7f65-4788-8638-1790e8b45ec4_keypoints.json\n",
      "missing file ./pose_data/62adddd9-0a14-4e19-9518-98f7ab00a94a_keypoints.json\n",
      "missing file ./pose_data/63a7ac38-977d-438a-8b54-c77cc529b4b7_keypoints.json\n",
      "missing file ./pose_data/0bdbd3dd-5506-45bc-9339-43785ed25934_keypoints.json\n",
      "missing file ./pose_data/e30b5c27-05c5-491c-8c3e-dd54b317ff7e_keypoints.json\n",
      "missing file ./pose_data/915e7956-768d-4e62-ac83-5e5cfbd78856_keypoints.json\n",
      "missing file ./pose_data/838f62a0-80bf-4c8c-a0db-392e5ba743fc_keypoints.json\n",
      "missing file ./pose_data/dd826dd6-1ffb-4044-bc8d-3f64004b26c1_keypoints.json\n",
      "missing file ./pose_data/240a394d-f8f4-43c1-9623-fdfc548aeeb5_keypoints.json\n",
      "missing file ./pose_data/8f1d7075-46ef-4537-ad5b-ba6e7cbc68b4_keypoints.json\n",
      "missing file ./pose_data/cedb5b8e-8c2d-4fb0-8dc8-68b3baaa909b_keypoints.json\n",
      "missing file ./pose_data/652e59ff-ff26-4115-af65-3ff0cc33cc8f_keypoints.json\n",
      "missing file ./pose_data/74f89675-81fc-4908-9d2c-636fd5933990_keypoints.json\n",
      "missing file ./pose_data/4a31663f-404c-4118-b533-66e8e1b62a2e_keypoints.json\n",
      "missing file ./pose_data/a3db1298-5346-418c-854c-4d515e056683_keypoints.json\n",
      "missing file ./pose_data/94367f36-a67e-4fd9-8602-6c2d7a3df2aa_keypoints.json\n",
      "missing file ./pose_data/3f64c86b-a398-41a1-aa30-8fca3d13305c_keypoints.json\n",
      "missing file ./pose_data/ee1a4c35-050d-414e-8016-3b8f876cf695_keypoints.json\n",
      "missing file ./pose_data/8e6bb4d8-d4ef-480f-81ad-a754b8c16f45_keypoints.json\n",
      "missing file ./pose_data/15f85107-5e5b-458d-a9a1-8540b091e075_keypoints.json\n",
      "missing file ./pose_data/b17fad41-bcda-4ea5-89ef-02c873133283_keypoints.json\n",
      "missing file ./pose_data/19b41c06-206b-424c-bf3f-2bc633fcb376_keypoints.json\n",
      "missing file ./pose_data/8a2770b2-99bd-4a90-be62-5da0e90cd544_keypoints.json\n",
      "missing file ./pose_data/03375292-e827-426b-86a6-204f378eb8c5_keypoints.json\n",
      "missing file ./pose_data/97d34191-7987-40ba-8dbc-f9cbbf9d79e9_keypoints.json\n",
      "missing file ./pose_data/84186d04-4d4d-4ac6-a908-502503e8cd5b_keypoints.json\n",
      "missing file ./pose_data/0a897fc6-fdd6-4543-917d-169d70a33b9b_keypoints.json\n"
     ]
    }
   ],
   "source": [
    "light_hist = [row[1] for row in hue_mat]\n",
    "plt.plot([hsb[0] for hsb in light_hist])\n",
    "plt.plot([ohsb[1] for ohsb in light_hist])\n",
    "plt.plot([ohsb[2] for ohsb in light_hist])\n",
    "plt.plot([ohsb[3] for ohsb in light_hist])"
   ]
  },
  {
   "cell_type": "code",
   "execution_count": null,
   "metadata": {
    "collapsed": true
   },
   "outputs": [],
   "source": [
    "from sklearn import neighbors\n",
    "from sklearn import preprocessing\n",
    "from sklearn.tree import DecisionTreeClassifier\n",
    "\n",
    "dataX = preprocessing.scale(dataX)\n",
    "clf = neighbors.KNeighborsClassifier(n_neighbors, weights=weights)\n",
    "clf.fit(dataX, dataY)\n",
    "score = clf.score(dataX, dataY)\n",
    "print(\"knn:\", score)\n",
    "\n",
    "from sklearn import linear_model\n",
    "logreg = linear_model.LogisticRegression(C=1e5)\n",
    "logreg.fit(dataX, dataY)\n",
    "score = logreg.score(dataX, dataY)\n",
    "print(\"logreg:\", score)\n",
    "\n",
    "clf_gini = DecisionTreeClassifier(criterion = \"gini\", random_state = 100,\n",
    "                               max_depth=3, min_samples_leaf=5)\n",
    "clf_gini.fit(dataX, dataY)\n",
    "score = clf_gini.score(dataX, dataY)\n",
    "print(\"tree:\", score)\n"
   ]
  }
 ],
 "metadata": {
  "kernelspec": {
   "display_name": "Python 3",
   "language": "python",
   "name": "python3"
  },
  "language_info": {
   "codemirror_mode": {
    "name": "ipython",
    "version": 3
   },
   "file_extension": ".py",
   "mimetype": "text/x-python",
   "name": "python",
   "nbconvert_exporter": "python",
   "pygments_lexer": "ipython3",
   "version": "3.6.1"
  }
 },
 "nbformat": 4,
 "nbformat_minor": 2
}
