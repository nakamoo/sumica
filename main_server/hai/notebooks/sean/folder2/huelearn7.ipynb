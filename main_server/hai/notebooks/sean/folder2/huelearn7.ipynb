{
 "cells": [
  {
   "cell_type": "code",
   "execution_count": 1,
   "metadata": {
    "collapsed": true
   },
   "outputs": [],
   "source": [
    "from pymongo import MongoClient\n",
    "\n",
    "client = MongoClient('localhost', 27017)\n",
    "mongo = client.hai"
   ]
  },
  {
   "cell_type": "code",
   "execution_count": 26,
   "metadata": {},
   "outputs": [],
   "source": [
    "import time\n",
    "\n",
    "start_time = int(time.time()) - 3600*10\n",
    "end_time = int(time.time())\n",
    "username = \"sean\""
   ]
  },
  {
   "cell_type": "code",
   "execution_count": 3,
   "metadata": {},
   "outputs": [
    {
     "name": "stdout",
     "output_type": "stream",
     "text": [
      "['webcam0', 'nakacam0', 'nakacam1']\n"
     ]
    }
   ],
   "source": [
    "query = {\"user_name\": username, \"pose\":{\"$exists\": True}, \"detections\":{\"$exists\": True}, \"time\": {\"$gt\": start_time, \"$lt\": time.time()}}\n",
    "cams = mongo.images.find(query).distinct(\"cam_id\")\n",
    "print(cams)\n",
    "cams = ['nakacam0', 'nakacam1']"
   ]
  },
  {
   "cell_type": "code",
   "execution_count": 4,
   "metadata": {
    "collapsed": true
   },
   "outputs": [],
   "source": [
    "import os\n",
    "import sys\n",
    "\n",
    "sys.path.append(\"..\")\n",
    "os.chdir(\"/home/sean/HAI/main_server/hai\")"
   ]
  },
  {
   "cell_type": "code",
   "execution_count": 49,
   "metadata": {},
   "outputs": [
    {
     "name": "stdout",
     "output_type": "stream",
     "text": [
      "The autoreload extension is already loaded. To reload it, use:\n",
      "  %reload_ext autoreload\n"
     ]
    }
   ],
   "source": [
    "%load_ext autoreload\n",
    "%autoreload 2\n",
    "from controllers.dbreader.imagereader import ImageReader"
   ]
  },
  {
   "cell_type": "code",
   "execution_count": 50,
   "metadata": {},
   "outputs": [],
   "source": [
    "imreader = ImageReader()\n",
    "imdata = imreader.read_db(username, start_time, end_time, cams)"
   ]
  },
  {
   "cell_type": "code",
   "execution_count": 51,
   "metadata": {},
   "outputs": [
    {
     "data": {
      "text/plain": [
       "2508"
      ]
     },
     "execution_count": 51,
     "metadata": {},
     "output_type": "execute_result"
    }
   ],
   "source": [
    "len(imdata)"
   ]
  },
  {
   "cell_type": "code",
   "execution_count": 53,
   "metadata": {},
   "outputs": [],
   "source": [
    "from controllers.vectorizer.person2vec import Person2Vec\n",
    "data2vec = Person2Vec()\n",
    "x_mat = data2vec.vectorize(imdata)"
   ]
  },
  {
   "cell_type": "code",
   "execution_count": 54,
   "metadata": {},
   "outputs": [
    {
     "name": "stdout",
     "output_type": "stream",
     "text": [
      "(2508, 108)\n"
     ]
    }
   ],
   "source": [
    "x_mat.shape"
   ]
  },
  {
   "cell_type": "code",
   "execution_count": 60,
   "metadata": {},
   "outputs": [
    {
     "data": {
      "image/png": "[encoded data removed]",
      "text/plain": [
       "<matplotlib.figure.Figure at 0x7fc52fd94ef0>"
      ]
     },
     "metadata": {},
     "output_type": "display_data"
    }
   ],
   "source": [
    "from sklearn.decomposition import PCA\n",
    "from sklearn.preprocessing import StandardScaler\n",
    "from sklearn.manifold import TSNE\n",
    "import matplotlib.pyplot as plt\n",
    "\n",
    "def plot(x):\n",
    "    pca = PCA(n_components=50)\n",
    "    tsne = TSNE(n_components=2)\n",
    "    x = StandardScaler().fit_transform(x)\n",
    "    x = pca.fit_transform(x)\n",
    "    x = tsne.fit_transform(x)\n",
    "    #for t in range(start_time, end_time, 3600):\n",
    "    #cond = np.where(np.logical_and(time_data2>t, time_data2<=t+3600))\n",
    "    #plt.scatter(x[cond,0],x[cond,1], label=t)\n",
    "    plt.scatter(x[:,0], x[:, 1])\n",
    "    plt.show()\n",
    "    \n",
    "plot(x_mat)"
   ]
  },
  {
   "cell_type": "code",
   "execution_count": null,
   "metadata": {
    "collapsed": true
   },
   "outputs": [],
   "source": []
  }
 ],
 "metadata": {
  "kernelspec": {
   "display_name": "Python 3",
   "language": "python",
   "name": "python3"
  },
  "language_info": {
   "codemirror_mode": {
    "name": "ipython",
    "version": 3
   },
   "file_extension": ".py",
   "mimetype": "text/x-python",
   "name": "python",
   "nbconvert_exporter": "python",
   "pygments_lexer": "ipython3",
   "version": "3.6.1"
  }
 },
 "nbformat": 4,
 "nbformat_minor": 2
}
