{
 "cells": [
  {
   "cell_type": "code",
   "execution_count": 1,
   "metadata": {},
   "outputs": [
    {
     "name": "stdout",
     "output_type": "stream",
     "text": [
      "Input password for image encryption.\n",
      "········\n"
     ]
    }
   ],
   "source": [
    "import sys\n",
    "import os\n",
    "from matplotlib import pyplot as plt\n",
    "\n",
    "sys.path.append(\"..\")\n",
    "os.chdir(\"/home/sean/HAI/main_server/hai\")\n",
    "import hai"
   ]
  },
  {
   "cell_type": "code",
   "execution_count": 2,
   "metadata": {
    "collapsed": true
   },
   "outputs": [],
   "source": [
    "import database as db"
   ]
  },
  {
   "cell_type": "code",
   "execution_count": 17,
   "metadata": {
    "collapsed": true
   },
   "outputs": [],
   "source": [
    "def get_data():\n",
    "    query = {\"user_name\": \"sean\", \"cam_id\": \"0\", \"summary.touching\":{\"$exists\": True}}\n",
    "    n = db.mongo.images.find(query).sort([(\"time\",-1)]).limit(100)\n",
    "    return n"
   ]
  },
  {
   "cell_type": "code",
   "execution_count": 25,
   "metadata": {},
   "outputs": [
    {
     "name": "stdout",
     "output_type": "stream",
     "text": [
      "[Errno 2] No such file or directory: './pose_data/cc50d484-ac36-4f63-a9f8-7ddc00999734_keypoints.json'\n",
      "[Errno 2] No such file or directory: './pose_data/7fc9c920-38a8-4870-b3ba-80d1833aca74_keypoints.json'\n",
      "[Errno 2] No such file or directory: './pose_data/1834302f-e96a-4da8-9700-467a782fb789_keypoints.json'\n",
      "[Errno 2] No such file or directory: './pose_data/773682ff-7816-4a62-8763-5bd43c6a579f_keypoints.json'\n",
      "[Errno 2] No such file or directory: './pose_data/e3af824b-c9cc-489e-99c1-869e00323c60_keypoints.json'\n",
      "[Errno 2] No such file or directory: './pose_data/0fe6bf23-aacb-44cc-8f3a-fcc3c5d50c5f_keypoints.json'\n",
      "[Errno 2] No such file or directory: './pose_data/0cafe069-4d38-4a26-ac86-e218b89a870e_keypoints.json'\n",
      "[Errno 2] No such file or directory: './pose_data/e5a0a833-b098-4bbb-bae0-5ca8b3f6273f_keypoints.json'\n",
      "[Errno 2] No such file or directory: './pose_data/d072c97b-651a-4f59-b0de-f9ab664d3b83_keypoints.json'\n",
      "[Errno 2] No such file or directory: './pose_data/d1988d6e-1ceb-4a49-a036-5250553d88f8_keypoints.json'\n",
      "[Errno 2] No such file or directory: './pose_data/0c391182-ed09-479e-9806-fe70633093c4_keypoints.json'\n",
      "[Errno 2] No such file or directory: './pose_data/55dc87c0-adf2-4bc6-8eb0-af2cb332d8a3_keypoints.json'\n",
      "[Errno 2] No such file or directory: './pose_data/d45dd7b3-c906-4294-ad20-caa3da148e83_keypoints.json'\n",
      "[Errno 2] No such file or directory: './pose_data/b5c63be5-1541-4323-b6c9-2d521ffda42b_keypoints.json'\n",
      "[Errno 2] No such file or directory: './pose_data/6bdae1d2-64b6-458b-96d8-d7118ed8b09d_keypoints.json'\n",
      "[Errno 2] No such file or directory: './pose_data/b01e07c7-0fb8-4aaa-adcb-0fa15ca3c65a_keypoints.json'\n",
      "[Errno 2] No such file or directory: './pose_data/18a9626c-8f64-493a-9359-493b4d9d9abb_keypoints.json'\n",
      "[Errno 2] No such file or directory: './pose_data/0434f225-7982-404e-94c4-d53487302015_keypoints.json'\n",
      "[Errno 2] No such file or directory: './pose_data/a02f377e-72c4-45d8-94de-b30903fe6510_keypoints.json'\n"
     ]
    }
   ],
   "source": [
    "def get_objects(data):\n",
    "    look_objects = []\n",
    "    touch_objects = []\n",
    "    for n in data:\n",
    "        for obj in n[\"summary\"]:\n",
    "            if obj[\"label\"] == \"person\" and \"touching\" in obj:\n",
    "                touch_objects.append(obj[\"touching\"])\n",
    "                look_objects.append(obj[\"looking\"])\n",
    "    return touch_objects, look_objects"
   ]
  },
  {
   "cell_type": "code",
   "execution_count": 18,
   "metadata": {},
   "outputs": [
    {
     "name": "stdout",
     "output_type": "stream",
     "text": [
      "[Errno 2] No such file or directory: './pose_data/7595e13c-451e-4b2e-866d-a21305c3ae37_keypoints.json'\n"
     ]
    }
   ],
   "source": [
    "data = get_data()"
   ]
  },
  {
   "cell_type": "code",
   "execution_count": 15,
   "metadata": {},
   "outputs": [
    {
     "data": {
      "text/plain": [
       "<pymongo.cursor.Cursor at 0x7fd908119780>"
      ]
     },
     "execution_count": 15,
     "metadata": {},
     "output_type": "execute_result"
    }
   ],
   "source": [
    "data"
   ]
  },
  {
   "cell_type": "code",
   "execution_count": 24,
   "metadata": {},
   "outputs": [
    {
     "name": "stdout",
     "output_type": "stream",
     "text": [
      "['None', 'person', 'None', 'None', 'None', 'None', 'None', 'None', 'None', 'None', 'None', 'None', 'cat', 'cat', 'person', 'person', 'person', 'person', 'person', 'person', 'None', 'None', 'None', 'person', 'None', 'person', 'None', 'laptop', 'laptop', 'None', 'laptop', 'None', 'None', 'laptop', 'remote', 'laptop', 'person', 'None', 'None', 'laptop', 'None', 'cat', 'person', 'None', 'None', 'None', 'None', 'person', 'None', 'None', 'person', 'None', 'None', 'None', 'None', 'None', 'None', 'None', 'None', 'laptop', 'None', 'None', 'person', 'None', 'person', 'None', 'person', 'person', 'None', 'None', 'person', 'None', 'person', 'person', 'None', 'person', 'None', 'None', 'None', 'None', 'person', 'person', 'None', 'None', 'None', 'None', 'None', 'None', 'None', 'cat', 'None', 'None', 'None', 'None', 'None', 'None', 'None', 'None', 'None', 'None', 'person', 'person', 'None', 'None', 'None', 'None', 'None', 'None', 'None', 'None', 'None', 'None', 'None', 'None', 'None', 'None', 'None', 'None', 'None', 'None', 'None', 'None', 'None', 'teddy bear', 'None', 'None', 'person', 'None', 'person', 'None', 'None', 'person']\n",
      "[[], [], [], [], ['bird'], [], [], [], [], [], [], [], ['cell phone'], ['cell phone'], [], [], ['person'], ['person'], [], ['person', 'cell phone'], [], [], ['chair'], ['person', 'laptop'], ['person', 'laptop'], ['chair', 'person', 'laptop'], ['person', 'laptop', 'chair'], ['laptop'], ['laptop'], ['laptop'], ['chair', 'laptop'], ['laptop'], ['laptop'], [], ['remote', 'chair', 'laptop'], ['laptop'], ['person', 'laptop'], [], [], ['keyboard', 'laptop'], ['laptop'], ['keyboard', 'laptop'], ['laptop'], ['person', 'chair'], [], [], [], [], ['person', 'chair'], ['keyboard', 'laptop'], ['person'], ['person', 'chair'], ['cat', 'laptop'], ['person', 'laptop'], ['person', 'laptop', 'chair'], ['person', 'laptop', 'chair'], ['person', 'laptop'], ['keyboard', 'person', 'laptop'], ['keyboard', 'person', 'laptop'], ['laptop'], ['person', 'laptop'], ['person', 'laptop'], ['chair', 'laptop'], [], ['person', 'laptop'], [], ['person', 'laptop'], ['chair', 'person', 'laptop'], ['person', 'chair'], [], ['laptop'], [], ['person', 'laptop'], ['chair', 'person', 'laptop'], [], ['person', 'laptop'], [], ['person'], ['keyboard', 'chair', 'person', 'laptop'], ['keyboard', 'chair', 'person', 'laptop'], ['person', 'laptop', 'chair'], ['laptop'], ['person', 'laptop', 'chair'], ['person', 'laptop'], [], ['chair', 'person', 'laptop'], ['chair', 'person', 'laptop'], ['chair', 'person', 'laptop'], ['keyboard', 'person', 'laptop'], ['keyboard', 'cat', 'laptop'], ['keyboard', 'laptop'], ['laptop'], ['person'], ['laptop'], ['person'], ['laptop'], ['person'], ['person', 'laptop'], ['person'], ['person', 'laptop'], ['keyboard', 'person', 'laptop'], ['keyboard', 'person', 'laptop'], ['person', 'laptop'], ['person', 'chair'], ['keyboard', 'person', 'laptop', 'couch'], ['person', 'couch'], ['chair', 'person', 'laptop', 'teddy bear'], ['person'], ['person', 'laptop'], ['person'], ['chair', 'person', 'laptop', 'teddy bear'], ['person'], ['chair', 'laptop', 'teddy bear'], ['laptop', 'teddy bear'], [], ['person'], ['person', 'laptop'], ['person'], ['person', 'laptop'], ['keyboard', 'person', 'laptop', 'teddy bear'], ['person'], ['person', 'laptop'], ['person'], ['laptop', 'teddy bear'], ['person', 'laptop', 'chair'], ['keyboard', 'person', 'laptop'], ['person', 'laptop'], ['person'], ['person', 'laptop'], [], ['teddy bear', 'laptop', 'chair'], ['keyboard', 'person', 'laptop']]\n",
      "[Errno 2] No such file or directory: './pose_data/3763305f-5ace-4113-829d-c8c7f682d59d_keypoints.json'\n",
      "[Errno 2] No such file or directory: './pose_data/ec2bb715-6042-4aea-b29e-bcae59874022_keypoints.json'\n",
      "[Errno 2] No such file or directory: './pose_data/5bc521d9-3c54-4c29-8a6a-8da91dccf76e_keypoints.json'\n",
      "[Errno 2] No such file or directory: './pose_data/47b3eb4e-683a-4b3f-90c7-07387058875d_keypoints.json'\n",
      "[Errno 2] No such file or directory: './pose_data/3f5b7cf9-ab52-4c24-80f0-202d45eb15c6_keypoints.json'\n",
      "[Errno 2] No such file or directory: './pose_data/3d01b5ad-5022-4e1f-a1ea-ab3266722f61_keypoints.json'\n",
      "[Errno 2] No such file or directory: './pose_data/b223fdab-134f-4faf-a921-bc60edd27639_keypoints.json'\n",
      "[Errno 2] No such file or directory: './pose_data/14513bd2-a0dc-40f3-ab83-7d8ef65c8e92_keypoints.json'\n",
      "[Errno 2] No such file or directory: './pose_data/31771d0d-3cef-43c8-9b15-5f90cf3fa7c9_keypoints.json'\n",
      "[Errno 2] No such file or directory: './pose_data/76a2c1de-6b53-48f9-a7f9-cc39b1112081_keypoints.json'\n"
     ]
    }
   ],
   "source": [
    "data = list(data)\n",
    "\n",
    "\n",
    "#print(look_objects)\n",
    "#print(touch_objects)"
   ]
  },
  {
   "cell_type": "code",
   "execution_count": 29,
   "metadata": {},
   "outputs": [
    {
     "name": "stdout",
     "output_type": "stream",
     "text": [
      "[]\n",
      "[Errno 2] No such file or directory: './pose_data/e67b5b87-531c-47c3-bc0a-3391698ccb07_keypoints.json'\n",
      "[Errno 2] No such file or directory: './pose_data/d26e2ed0-c8da-465f-8fb5-7a5b6b14d31f_keypoints.json'\n",
      "[Errno 2] No such file or directory: './pose_data/dae8d00b-769d-4a73-a93c-88c9a3900524_keypoints.json'\n",
      "[Errno 2] No such file or directory: './pose_data/ab2909e9-b9a4-41ef-89d9-80fbbe2e2d1c_keypoints.json'\n",
      "[Errno 2] No such file or directory: './pose_data/f3f6142e-5aaa-40c4-be74-e2a71d3e9427_keypoints.json'\n",
      "[Errno 2] No such file or directory: './pose_data/02a9bf21-7d22-4d51-9e18-1baaf98111cf_keypoints.json'\n",
      "[Errno 2] No such file or directory: './pose_data/a09f69c0-f471-4125-ac7a-ce15bad64771_keypoints.json'\n",
      "[Errno 2] No such file or directory: './pose_data/8353d635-40cf-4000-a3ae-9c0c0afc5392_keypoints.json'\n",
      "[Errno 2] No such file or directory: './pose_data/26e9817d-a5a8-4262-802c-ceac45c5fa54_keypoints.json'\n",
      "[Errno 2] No such file or directory: './pose_data/fcc139d3-a1c3-49fa-b4da-2d75a27a48d1_keypoints.json'\n",
      "[Errno 2] No such file or directory: './pose_data/07bee8d2-f80e-4fa8-b59e-5a2ba8811005_keypoints.json'\n",
      "[Errno 2] No such file or directory: './pose_data/dd84cdab-539e-44d9-93c6-64dd105cb466_keypoints.json'\n",
      "[Errno 2] No such file or directory: './pose_data/11fcb10d-89c3-4798-a4b9-779ce33caf24_keypoints.json'\n",
      "[Errno 2] No such file or directory: './pose_data/e5cb5217-463a-429d-a3cc-c162046353dd_keypoints.json'\n"
     ]
    }
   ],
   "source": [
    "query = {\"user_name\": \"sean\"}\n",
    "n = db.mongo.hue.find(query).sort([(\"time\",-1)]).limit(100)\n",
    "print(list(n))"
   ]
  },
  {
   "cell_type": "code",
   "execution_count": null,
   "metadata": {
    "collapsed": true
   },
   "outputs": [],
   "source": []
  }
 ],
 "metadata": {
  "kernelspec": {
   "display_name": "Python 3",
   "language": "python",
   "name": "python3"
  },
  "language_info": {
   "codemirror_mode": {
    "name": "ipython",
    "version": 3
   },
   "file_extension": ".py",
   "mimetype": "text/x-python",
   "name": "python",
   "nbconvert_exporter": "python",
   "pygments_lexer": "ipython3",
   "version": "3.6.1"
  }
 },
 "nbformat": 4,
 "nbformat_minor": 2
}
