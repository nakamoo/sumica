{
 "cells": [
  {
   "cell_type": "code",
   "execution_count": 1,
   "metadata": {},
   "outputs": [
    {
     "data": {
      "text/plain": [
       "True"
      ]
     },
     "execution_count": 1,
     "metadata": {},
     "output_type": "execute_result"
    }
   ],
   "source": [
    "# %matplotlib nbagg\n",
    "# %matplotlib inline\n",
    "%load_ext autoreload\n",
    "%autoreload 2\n",
    "\n",
    "import sys\n",
    "import os\n",
    "import time\n",
    "import pickle\n",
    "from datetime import datetime\n",
    "\n",
    "sys.path.append(\"..\")\n",
    "# 自分のpath\n",
    "os.chdir(\"/home/nakamura/HAI/main_server/hai\")\n",
    "\n",
    "import coloredlogs, logging\n",
    "logger = logging.getLogger(__name__)\n",
    "coloredlogs.install(level='CRITICAL', logger=logger)\n",
    "\n",
    "import pymongo\n",
    "from pymongo import MongoClient\n",
    "from PIL import Image\n",
    "from matplotlib import pylab as plt\n",
    "from matplotlib.animation import ArtistAnimation\n",
    "import matplotlib.animation as animation\n",
    "import numpy as np\n",
    "import scipy\n",
    "from bson.objectid import ObjectId\n",
    "from sklearn.decomposition import PCA\n",
    "\n",
    "from notebooks.utils.utils import visualize, display_latest_image, display_image, print_time, strtime_to_epoch, epoch_to_strtime, UpdateDist, display_two_images\n",
    "from controllers.learner.img2vec import NNFeatures\n",
    "import controllers.learner.datasets as ds\n",
    "from controllers.tests.hue_lv2 import HueLv2\n",
    "\n",
    "mongo = MongoClient('localhost', 20202).hai\n",
    "from flask import Flask\n",
    "app = Flask(__name__)\n",
    "app.config.from_pyfile(filename=\"application.cfg\")"
   ]
  },
  {
   "cell_type": "code",
   "execution_count": 2,
   "metadata": {
    "collapsed": true
   },
   "outputs": [],
   "source": [
    "X = pickle.load(open('X-08.pkl', 'rb'))\n",
    "y = pickle.load(open('y-08.pkl', 'rb'))\n",
    "hue_lv2 = HueLv2('koki', debug=True, xy=(X, y))"
   ]
  },
  {
   "cell_type": "code",
   "execution_count": 3,
   "metadata": {},
   "outputs": [
    {
     "name": "stdout",
     "output_type": "stream",
     "text": [
      "2017-12-10 08:10:59\n"
     ]
    },
    {
     "data": {
      "image/png": "[encoded data removed]",
      "text/plain": [
       "<matplotlib.figure.Figure at 0x7f16422f4668>"
      ]
     },
     "metadata": {},
     "output_type": "display_data"
    }
   ],
   "source": [
    "%matplotlib inline\n",
    "display_image(hue_lv2.X[2][0], diff=True)"
   ]
  },
  {
   "cell_type": "code",
   "execution_count": 5,
   "metadata": {},
   "outputs": [
    {
     "data": {
      "text/plain": [
       "[<matplotlib.lines.Line2D at 0x7f15d03f44e0>]"
      ]
     },
     "execution_count": 5,
     "metadata": {},
     "output_type": "execute_result"
    },
    {
     "data": {
      "image/png": "[encoded data removed]",
      "text/plain": [
       "<matplotlib.figure.Figure at 0x7f15d04cea20>"
      ]
     },
     "metadata": {},
     "output_type": "display_data"
    }
   ],
   "source": [
    "diff_val = []\n",
    "for i in range(len(hue_lv2.X)):\n",
    "# for i in range(550, 650):\n",
    "    try:\n",
    "        diff_val.append(scipy.misc.imread(\"./images/raw_images/\" + hue_lv2.X[i][0]['diff_filename']).sum())\n",
    "    except:\n",
    "        diff_val.append(diff_val[-1])\n",
    "plt.plot(diff_val)"
   ]
  },
  {
   "cell_type": "code",
   "execution_count": null,
   "metadata": {
    "collapsed": true
   },
   "outputs": [],
   "source": [
    "a = np.array(diff_val)"
   ]
  }
 ],
 "metadata": {
  "kernelspec": {
   "display_name": "Python 3",
   "language": "python",
   "name": "python3"
  },
  "language_info": {
   "codemirror_mode": {
    "name": "ipython",
    "version": 3
   },
   "file_extension": ".py",
   "mimetype": "text/x-python",
   "name": "python",
   "nbconvert_exporter": "python",
   "pygments_lexer": "ipython3",
   "version": "3.5.3"
  }
 },
 "nbformat": 4,
 "nbformat_minor": 2
}
