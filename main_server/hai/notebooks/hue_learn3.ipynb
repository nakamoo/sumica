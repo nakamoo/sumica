{
 "cells": [
  {
   "cell_type": "code",
   "execution_count": 26,
   "metadata": {
    "collapsed": true
   },
   "outputs": [],
   "source": [
    "import os\n",
    "import sys\n",
    "\n",
    "sys.path.append(\"..\")\n",
    "os.chdir(\"/home/sean/HAI/main_server/hai\")\n",
    "\n",
    "import controllers.learner.datasets as ds"
   ]
  },
  {
   "cell_type": "code",
   "execution_count": 27,
   "metadata": {
    "collapsed": true
   },
   "outputs": [],
   "source": [
    "import time\n",
    "from datetime import datetime, date\n",
    "import calendar\n",
    "\n",
    "start_time = calendar.timegm(date(2017, 10, 9).timetuple())\n",
    "end_time = calendar.timegm(date(2017, 10, 11).timetuple())\n",
    "username = \"sean\""
   ]
  },
  {
   "cell_type": "code",
   "execution_count": 28,
   "metadata": {
    "scrolled": true
   },
   "outputs": [
    {
     "name": "stdout",
     "output_type": "stream",
     "text": [
      "8\n"
     ]
    }
   ],
   "source": [
    "x, y, classes, counts = ds.get_hue_dataset2(username, start_time, end_time, incl_pose=True, incl_feats=False)"
   ]
  },
  {
   "cell_type": "code",
   "execution_count": 15,
   "metadata": {},
   "outputs": [
    {
     "name": "stdout",
     "output_type": "stream",
     "text": [
      "((1.0, 1.0, 33862.0, 50.0, 122.0, 1.0, 1.0, 0.0, 0.0, 213.0, 0.0, 0.0, 0.0, 0.0, 0.0), 11)\n",
      "((1.0, 1.0, 33862.0, 50.0, 112.0, 1.0, 1.0, 0.0, 0.0, 117.0, 0.0, 0.0, 0.0, 0.0, 0.0), 11)\n",
      "[(1.0, 1.0, 33862.0, 50.0, 122.0, 1.0, 1.0, 0.0, 0.0, 213.0, 0.0, 0.0, 0.0, 0.0, 0.0), (1.0, 1.0, 33862.0, 50.0, 112.0, 1.0, 1.0, 0.0, 0.0, 117.0, 0.0, 0.0, 0.0, 0.0, 0.0)] (22, 55) (22,)\n"
     ]
    }
   ],
   "source": [
    "import numpy as np\n",
    "\n",
    "x = np.array(x)\n",
    "y = np.array(y)\n",
    "\n",
    "for count in counts[:10]:\n",
    "    print(count)\n",
    "print(classes, x.shape, y.shape)"
   ]
  },
  {
   "cell_type": "code",
   "execution_count": 5,
   "metadata": {},
   "outputs": [
    {
     "name": "stdout",
     "output_type": "stream",
     "text": [
      "0 / 22\n"
     ]
    },
    {
     "data": {
      "text/plain": [
       "<matplotlib.collections.PathCollection at 0x7f666281f400>"
      ]
     },
     "execution_count": 5,
     "metadata": {},
     "output_type": "execute_result"
    },
    {
     "data": {
      "image/png": "[encoded data removed]",
      "text/plain": [
       "<matplotlib.figure.Figure at 0x7f66c12b66a0>"
      ]
     },
     "metadata": {},
     "output_type": "display_data"
    }
   ],
   "source": [
    "import matplotlib.pyplot as plt\n",
    "from sklearn.decomposition import PCA    \n",
    "from sklearn.manifold import TSNE\n",
    "\n",
    "%matplotlib inline\n",
    "tsne = PCA(n_components=2)\n",
    "x_red = tsne.fit_transform(x[y != 0])\n",
    "\n",
    "import matplotlib\n",
    "colors = []\n",
    "\n",
    "for i, label in enumerate(y[y != 0]):\n",
    "    if i % 1000 == 0:\n",
    "        print(i, \"/\", len(y), flush=True)\n",
    "    \n",
    "    if label == len(classes):\n",
    "        hsb = [1.0, 0, 0]\n",
    "    else:\n",
    "        hue_class = classes[label]\n",
    "        #hsb = [hue_class[2]/65536.0, hue_class[3]/255.0, hue_class[4]/255.0]\n",
    "        hsb = [hue_class[7]/65536.0, hue_class[8]/255.0, hue_class[9]/255.0]\n",
    "    rgb = matplotlib.colors.hsv_to_rgb(hsb)\n",
    "    colors.append(rgb)\n",
    "\n",
    "plt.scatter(x_red[:,0][::-1], x_red[:,1][::-1], c=colors)"
   ]
  },
  {
   "cell_type": "code",
   "execution_count": null,
   "metadata": {
    "collapsed": true
   },
   "outputs": [],
   "source": []
  },
  {
   "cell_type": "code",
   "execution_count": 20,
   "metadata": {
    "collapsed": true
   },
   "outputs": [],
   "source": [
    "from sklearn.model_selection import train_test_split\n",
    "from sklearn.model_selection import cross_val_score\n",
    "from sklearn.metrics import confusion_matrix\n",
    "from sklearn import linear_model\n",
    "from sklearn.preprocessing import StandardScaler\n",
    "\n",
    "scaler = StandardScaler()\n",
    "\n",
    "np.random.seed(1984)\n",
    "#shuffle_i = np.random.permutation(np.arange(len(x)))\n",
    "\n",
    "N = len(x)\n",
    "train_x, test_x = x, x#x[:N//2], x[N//2:]\n",
    "train_x = scaler.fit_transform(train_x)\n",
    "test_x = scaler.transform(test_x)\n",
    "train_y, test_y = y, y#y[:N//2], y[N//2:]"
   ]
  },
  {
   "cell_type": "code",
   "execution_count": 21,
   "metadata": {},
   "outputs": [
    {
     "name": "stdout",
     "output_type": "stream",
     "text": [
      "random forest\n",
      "time: 0.026213645935058594\n",
      "0.954545454545\n",
      "0.954545454545\n"
     ]
    },
    {
     "data": {
      "text/plain": [
       "'\\nfrom sklearn.neural_network import MLPClassifier\\nclf = MLPClassifier(hidden_layer_sizes=(10,))\\nprint(\"neural\")\\nfit(clf)\\n\\nfrom sklearn import svm\\nclf = svm.SVC()\\nprint(\"svm\")\\nfit(clf)\\n\\nclf = svm.LinearSVC()\\nprint(\"linear svm\")\\nfit(clf)\\n'"
      ]
     },
     "execution_count": 21,
     "metadata": {},
     "output_type": "execute_result"
    }
   ],
   "source": [
    "def fit(clf):\n",
    "    t = time.time()\n",
    "    clf.fit(train_x, train_y)\n",
    "    print(\"time:\", time.time()-t)\n",
    "    print(clf.score(train_x, train_y))\n",
    "    print(clf.score(test_x, test_y))\n",
    "    \n",
    "from sklearn.ensemble import RandomForestClassifier\n",
    "clf = RandomForestClassifier(n_estimators=10, class_weight=\"balanced\")\n",
    "print(\"random forest\")\n",
    "fit(clf)\n",
    "\n",
    "\"\"\"\n",
    "from sklearn.neural_network import MLPClassifier\n",
    "clf = MLPClassifier(hidden_layer_sizes=(10,))\n",
    "print(\"neural\")\n",
    "fit(clf)\n",
    "\n",
    "from sklearn import svm\n",
    "clf = svm.SVC()\n",
    "print(\"svm\")\n",
    "fit(clf)\n",
    "\n",
    "clf = svm.LinearSVC()\n",
    "print(\"linear svm\")\n",
    "fit(clf)\n",
    "\"\"\""
   ]
  },
  {
   "cell_type": "code",
   "execution_count": 8,
   "metadata": {},
   "outputs": [
    {
     "ename": "NameError",
     "evalue": "name 'MLPClassifier' is not defined",
     "output_type": "error",
     "traceback": [
      "\u001b[0;31m---------------------------------------------------------------------------\u001b[0m",
      "\u001b[0;31mNameError\u001b[0m                                 Traceback (most recent call last)",
      "\u001b[0;32m<ipython-input-8-b084495d734b>\u001b[0m in \u001b[0;36m<module>\u001b[0;34m()\u001b[0m\n\u001b[0;32m----> 1\u001b[0;31m \u001b[0mclf\u001b[0m \u001b[0;34m=\u001b[0m \u001b[0mMLPClassifier\u001b[0m\u001b[0;34m(\u001b[0m\u001b[0mhidden_layer_sizes\u001b[0m\u001b[0;34m=\u001b[0m\u001b[0;34m(\u001b[0m\u001b[0;36m50\u001b[0m\u001b[0;34m,\u001b[0m\u001b[0;34m)\u001b[0m\u001b[0;34m)\u001b[0m\u001b[0;34m\u001b[0m\u001b[0m\n\u001b[0m\u001b[1;32m      2\u001b[0m \u001b[0mprint\u001b[0m\u001b[0;34m(\u001b[0m\u001b[0;34m\"neural\"\u001b[0m\u001b[0;34m)\u001b[0m\u001b[0;34m\u001b[0m\u001b[0m\n\u001b[1;32m      3\u001b[0m \u001b[0mfit\u001b[0m\u001b[0;34m(\u001b[0m\u001b[0mclf\u001b[0m\u001b[0;34m)\u001b[0m\u001b[0;34m\u001b[0m\u001b[0m\n",
      "\u001b[0;31mNameError\u001b[0m: name 'MLPClassifier' is not defined"
     ]
    }
   ],
   "source": []
  },
  {
   "cell_type": "code",
   "execution_count": 22,
   "metadata": {},
   "outputs": [
    {
     "name": "stdout",
     "output_type": "stream",
     "text": [
      "[[11  0]\n",
      " [ 1 10]]\n",
      "[[11  0]\n",
      " [ 1 10]]\n"
     ]
    }
   ],
   "source": [
    "from sklearn.metrics import confusion_matrix\n",
    "print(confusion_matrix(train_y, clf.predict(train_x)))\n",
    "print(confusion_matrix(test_y, clf.predict(test_x)))"
   ]
  },
  {
   "cell_type": "code",
   "execution_count": 23,
   "metadata": {},
   "outputs": [
    {
     "name": "stdout",
     "output_type": "stream",
     "text": [
      "[[11  0]\n",
      " [ 1 10]]\n",
      "[[11  0]\n",
      " [ 1 10]]\n"
     ]
    }
   ],
   "source": [
    "from sklearn.metrics import confusion_matrix\n",
    "print(confusion_matrix(train_y, clf.predict(train_x)))\n",
    "print(confusion_matrix(test_y, clf.predict(test_x)))"
   ]
  },
  {
   "cell_type": "code",
   "execution_count": 24,
   "metadata": {
    "collapsed": true
   },
   "outputs": [],
   "source": [
    "import pickle\n",
    "pickle.dump({\"classes\": classes, \"classifier\": clf, \"preprocessor\": scaler}, open(\"classifier.pkl\", \"wb+\"))"
   ]
  },
  {
   "cell_type": "code",
   "execution_count": 25,
   "metadata": {},
   "outputs": [
    {
     "name": "stdout",
     "output_type": "stream",
     "text": [
      "[(1.0, 1.0, 33862.0, 50.0, 122.0, 1.0, 1.0, 0.0, 0.0, 213.0, 0.0, 0.0, 0.0, 0.0, 0.0), (1.0, 1.0, 33862.0, 50.0, 112.0, 1.0, 1.0, 0.0, 0.0, 117.0, 0.0, 0.0, 0.0, 0.0, 0.0)]\n"
     ]
    }
   ],
   "source": [
    "print(classes)"
   ]
  },
  {
   "cell_type": "code",
   "execution_count": null,
   "metadata": {
    "collapsed": true
   },
   "outputs": [],
   "source": []
  },
  {
   "cell_type": "code",
   "execution_count": null,
   "metadata": {
    "collapsed": true
   },
   "outputs": [],
   "source": []
  }
 ],
 "metadata": {
  "kernelspec": {
   "display_name": "Python 3",
   "language": "python",
   "name": "python3"
  },
  "language_info": {
   "codemirror_mode": {
    "name": "ipython",
    "version": 3
   },
   "file_extension": ".py",
   "mimetype": "text/x-python",
   "name": "python",
   "nbconvert_exporter": "python",
   "pygments_lexer": "ipython3",
   "version": "3.6.1"
  }
 },
 "nbformat": 4,
 "nbformat_minor": 2
}
